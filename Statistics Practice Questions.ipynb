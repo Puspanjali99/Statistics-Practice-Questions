{
 "cells": [
  {
   "cell_type": "markdown",
   "id": "27a68e31-0be0-478a-8e1a-1ab06d99c0ff",
   "metadata": {},
   "source": [
    "# Generate a list of 100 integers containing values between 90 to 130 and store it in the variable 'int_list'. after generating the list, find the following:\n",
    "\n"
   ]
  },
  {
   "cell_type": "markdown",
   "id": "973f826f-755f-4bb5-8387-59df4eaf56f4",
   "metadata": {},
   "source": [
    "## (i) Write a python function to calculate the mean of a given list of numbers create a function to find the median of a list of numbers."
   ]
  },
  {
   "cell_type": "code",
   "execution_count": 1,
   "id": "5d4aba66-3a84-42d1-b783-f55196bc19c7",
   "metadata": {},
   "outputs": [],
   "source": [
    "# Function to Calculate the Mean\n",
    "\n",
    "def calculate_mean(numbers):\n",
    "    if len(numbers) == 0:\n",
    "        return None # Handle empty list\n",
    "    return sum(numbers) / len(numbers)"
   ]
  },
  {
   "cell_type": "code",
   "execution_count": 2,
   "id": "2da50611-ce26-47b6-bb4a-993c0d6f0417",
   "metadata": {},
   "outputs": [],
   "source": [
    "# Function to find the median\n",
    "def calculate_median(numbers):\n",
    "    if len(numbers) == 0:\n",
    "        return None # Handel empty list\n",
    "\n",
    "    sorted_numbers = sorted(numbers)\n",
    "    n = len(sorted_numbers)\n",
    "    mid = n // 2\n",
    "\n",
    "\n",
    "    if n % 2 == 0: # If even number of elements\n",
    "        median = (sorted_numbes[mid - 1] + sorted_numbers[mid]) / 2\n",
    "    else: # If odd number of elements\n",
    "        median = sorted_numbers[mid]\n",
    "        return median"
   ]
  },
  {
   "cell_type": "code",
   "execution_count": 3,
   "id": "26f474d2-d948-420a-9a3b-b81029dfb693",
   "metadata": {},
   "outputs": [],
   "source": [
    "numbers = [1,3,3,6,7,8,9]\n",
    "mean_value = calculate_mean(numbers)\n",
    "median_value = calculate_median(numbers)"
   ]
  },
  {
   "cell_type": "code",
   "execution_count": 4,
   "id": "f27335e0-4c5d-4476-ad43-9ea9b3429559",
   "metadata": {},
   "outputs": [
    {
     "data": {
      "text/plain": [
       "5.285714285714286"
      ]
     },
     "execution_count": 4,
     "metadata": {},
     "output_type": "execute_result"
    }
   ],
   "source": [
    "mean_value"
   ]
  },
  {
   "cell_type": "code",
   "execution_count": 5,
   "id": "e81779cd-d72f-412b-aa57-23d349f758c4",
   "metadata": {},
   "outputs": [
    {
     "data": {
      "text/plain": [
       "6"
      ]
     },
     "execution_count": 5,
     "metadata": {},
     "output_type": "execute_result"
    }
   ],
   "source": [
    "median_value"
   ]
  },
  {
   "cell_type": "markdown",
   "id": "4fa2f519-9147-46e7-8e97-aa8e4388330e",
   "metadata": {},
   "source": [
    "## (ii) Develop a program to compute the mode of a list of a list of integers."
   ]
  },
  {
   "cell_type": "code",
   "execution_count": 18,
   "id": "5655a4d8-1f61-48a4-bc64-7ada045b9a4f",
   "metadata": {},
   "outputs": [],
   "source": [
    "from collections import Counter\n",
    "\n",
    "def calculate_mode(numbers):\n",
    "    if len(numbers) == 0:\n",
    "        return None  # Handle empty list\n",
    "    \n",
    "    # Count the frequency of each number\n",
    "    frequency = Counter(numbers)\n",
    "    \n",
    "    # Find the highest frequency\n",
    "    max_count = max(frequency.values())\n",
    "    \n",
    "    # Find all numbers with the highest frequency\n",
    "    modes = [num for num, count in frequency.items() if count == max_count]\n",
    "    \n",
    "    return modes\n",
    "\n",
    "# Example Usage\n",
    "numbers = [1, 2, 2, 3, 3, 4, 4, 4, 5]\n",
    "mode_value = calculate_mode(numbers)"
   ]
  },
  {
   "cell_type": "code",
   "execution_count": 19,
   "id": "09b8be54-40c7-4f1a-b95f-13eec1a44559",
   "metadata": {},
   "outputs": [
    {
     "data": {
      "text/plain": [
       "[4]"
      ]
     },
     "execution_count": 19,
     "metadata": {},
     "output_type": "execute_result"
    }
   ],
   "source": [
    "mode_value"
   ]
  },
  {
   "cell_type": "markdown",
   "id": "ec394840-cb27-46ca-b373-0a05d1b9ae01",
   "metadata": {},
   "source": [
    "## Example with int_list"
   ]
  },
  {
   "cell_type": "code",
   "execution_count": 20,
   "id": "def3698b-1c09-4134-99f1-25c71ca8f498",
   "metadata": {},
   "outputs": [],
   "source": [
    "# Using the previous int_list\n",
    "int_list = [\n",
    "    119, 129, 115, 96, 104, 119, 95, 106, 96, 127, 98, 106, 118, 99, 112, 110,\n",
    "    103, 103, 107, 124, 113, 129, 122, 93, 128, 118, 129, 91, 128, 106, 122,\n",
    "    112, 122, 120, 104, 96, 114, 104, 96, 101, 118, 113, 105, 109, 122, 92, 98,\n",
    "    105, 121, 112, 125, 99, 114, 104, 97, 103, 102, 90, 114, 100, 124, 90, 99,\n",
    "    110, 122, 94, 105, 104, 122, 118, 97, 98, 104, 109, 93, 107, 93, 123, 105,\n",
    "    117, 116, 95, 93, 117, 91, 108, 109, 119, 130, 112, 96, 129, 121, 114, 126,\n",
    "    97, 110, 115, 130, 101\n",
    "]\n",
    "\n",
    "mode_value = calculate_mode(int_list)"
   ]
  },
  {
   "cell_type": "code",
   "execution_count": 21,
   "id": "9924b8a3-2374-4988-8a4f-0fc204e3c1e8",
   "metadata": {},
   "outputs": [
    {
     "data": {
      "text/plain": [
       "[104, 122]"
      ]
     },
     "execution_count": 21,
     "metadata": {},
     "output_type": "execute_result"
    }
   ],
   "source": [
    "mode_value"
   ]
  },
  {
   "cell_type": "markdown",
   "id": "f1587318-986e-4af9-a3bd-e02a77c4f08d",
   "metadata": {},
   "source": [
    "## (iii)Implement a function to calculate the weighted mean of a list of values and their corresponding weights."
   ]
  },
  {
   "cell_type": "code",
   "execution_count": 26,
   "id": "d1caedd1-732a-485b-80e9-66e30dc74619",
   "metadata": {},
   "outputs": [
    {
     "name": "stdout",
     "output_type": "stream",
     "text": [
      "Weighted Mean: 6.0\n"
     ]
    }
   ],
   "source": [
    "def calculate_weighted_mean(values, weights):\n",
    "    if len(values) != len(weights) or len(values) == 0:\n",
    "        raise ValueError(\"Values and weights must be of the same length and not empty.\")\n",
    "    \n",
    "    weighted_sum = sum(value * weight for value, weight in zip(values, weights))\n",
    "    total_weight = sum(weights)\n",
    "    \n",
    "    if total_weight == 0:\n",
    "        raise ValueError(\"Total weight must not be zero.\")\n",
    "    \n",
    "    weighted_mean = weighted_sum / total_weight\n",
    "    return weighted_mean\n",
    "\n",
    "# Example Usage\n",
    "values = [4, 6, 8, 2]\n",
    "weights = [1, 3, 5, 2]\n",
    "weighted_mean = calculate_weighted_mean(values, weights)\n",
    "\n",
    "print(f\"Weighted Mean: {weighted_mean}\")\n"
   ]
  },
  {
   "cell_type": "markdown",
   "id": "3273f7db-61ed-4bdf-b5da-56fab03eb91d",
   "metadata": {},
   "source": [
    "## (iv) Write a python function to find the geometric mean of a list of positive numbers."
   ]
  },
  {
   "cell_type": "code",
   "execution_count": 27,
   "id": "ea82d86a-e171-467b-b769-daa2747de23c",
   "metadata": {},
   "outputs": [
    {
     "name": "stdout",
     "output_type": "stream",
     "text": [
      "Geometric Mean: 5.196152422706632\n"
     ]
    }
   ],
   "source": [
    "import math\n",
    "\n",
    "def calculate_geometric_mean(numbers):\n",
    "    if len(numbers) == 0:\n",
    "        raise ValueError(\"The list of numbers must not be empty.\")\n",
    "    if any(n <= 0 for n in numbers):\n",
    "        raise ValueError(\"All numbers must be positive.\")\n",
    "    \n",
    "    product = math.prod(numbers)\n",
    "    n = len(numbers)\n",
    "    \n",
    "    geometric_mean = product ** (1 / n)\n",
    "    return geometric_mean\n",
    "\n",
    "# Example Usage\n",
    "numbers = [1, 3, 9, 27]\n",
    "geometric_mean = calculate_geometric_mean(numbers)\n",
    "\n",
    "print(f\"Geometric Mean: {geometric_mean}\")\n"
   ]
  },
  {
   "cell_type": "markdown",
   "id": "a65a42bb-39de-441f-ac74-f4fa78f95d9a",
   "metadata": {},
   "source": [
    "## (v) Create a program to calculate the harmonic mean of a list of values."
   ]
  },
  {
   "cell_type": "code",
   "execution_count": 28,
   "id": "4bdb576e-fd40-4a80-a666-5fcccfcaf73e",
   "metadata": {},
   "outputs": [
    {
     "name": "stdout",
     "output_type": "stream",
     "text": [
      "Harmonic Mean: 1.7142857142857142\n"
     ]
    }
   ],
   "source": [
    "def calculate_harmonic_mean(values):\n",
    "    if len(values) == 0:\n",
    "        raise ValueError(\"The list of values must not be empty.\")\n",
    "    if any(v <= 0 for v in values):\n",
    "        raise ValueError(\"All values must be positive.\")\n",
    "    \n",
    "    reciprocal_sum = sum(1 / v for v in values)\n",
    "    n = len(values)\n",
    "    \n",
    "    harmonic_mean = n / reciprocal_sum\n",
    "    return harmonic_mean\n",
    "\n",
    "# Example Usage\n",
    "values = [1, 2, 4]\n",
    "harmonic_mean = calculate_harmonic_mean(values)\n",
    "\n",
    "print(f\"Harmonic Mean: {harmonic_mean}\")\n"
   ]
  },
  {
   "cell_type": "markdown",
   "id": "ccfc4ca1-7210-4e6e-b1f1-984c2ef830ad",
   "metadata": {},
   "source": [
    "## (vi) Build a funtion to determin the midrange of a list of numbers(average of the minimum and maximum)"
   ]
  },
  {
   "cell_type": "code",
   "execution_count": 29,
   "id": "f1308cb3-515d-4d7e-83a1-0415d5598df1",
   "metadata": {},
   "outputs": [
    {
     "name": "stdout",
     "output_type": "stream",
     "text": [
      "Midrange: 6.5\n"
     ]
    }
   ],
   "source": [
    "def calculate_midrange(numbers):\n",
    "    if len(numbers) == 0:\n",
    "        raise ValueError(\"The list of numbers must not be empty.\")\n",
    "    \n",
    "    min_value = min(numbers)\n",
    "    max_value = max(numbers)\n",
    "    \n",
    "    midrange = (min_value + max_value) / 2\n",
    "    return midrange\n",
    "\n",
    "# Example Usage\n",
    "numbers = [3, 7, 1, 12, 5]\n",
    "midrange = calculate_midrange(numbers)\n",
    "\n",
    "print(f\"Midrange: {midrange}\")\n"
   ]
  },
  {
   "cell_type": "markdown",
   "id": "736b0997-80ed-428c-9968-1bb46f9e6089",
   "metadata": {},
   "source": [
    "## (vii) Implement a python program to find the trimmed mean of a list, excluding a certain percentage of outliers."
   ]
  },
  {
   "cell_type": "code",
   "execution_count": 30,
   "id": "c212439f-ab6b-449c-ad61-64d3d6bf0517",
   "metadata": {},
   "outputs": [
    {
     "name": "stdout",
     "output_type": "stream",
     "text": [
      "Trimmed Mean: 5.5\n"
     ]
    }
   ],
   "source": [
    "def calculate_trimmed_mean(numbers, trim_percentage):\n",
    "    if not 0 <= trim_percentage < 50:\n",
    "        raise ValueError(\"Trim percentage must be between 0 and less than 50.\")\n",
    "    if len(numbers) == 0:\n",
    "        raise ValueError(\"The list of numbers must not be empty.\")\n",
    "    \n",
    "    # Sort the list\n",
    "    sorted_numbers = sorted(numbers)\n",
    "    \n",
    "    # Calculate the number of values to trim\n",
    "    trim_count = int(len(sorted_numbers) * trim_percentage / 100)\n",
    "    \n",
    "    # Exclude the outliers\n",
    "    trimmed_numbers = sorted_numbers[trim_count:len(sorted_numbers) - trim_count]\n",
    "    \n",
    "    # Calculate the mean of the trimmed list\n",
    "    trimmed_mean = sum(trimmed_numbers) / len(trimmed_numbers)\n",
    "    \n",
    "    return trimmed_mean\n",
    "\n",
    "# Example Usage\n",
    "numbers = [1, 2, 3, 4, 5, 6, 7, 8, 9, 10]\n",
    "trim_percentage = 10  # Trim 10% from each end\n",
    "trimmed_mean = calculate_trimmed_mean(numbers, trim_percentage)\n",
    "\n",
    "print(f\"Trimmed Mean: {trimmed_mean}\")\n"
   ]
  },
  {
   "cell_type": "markdown",
   "id": "f86cbf30-4000-4fc1-9e93-a2282cbebbab",
   "metadata": {},
   "source": [
    "# 2. generate a list of 500 integers containing values between 200 to 300 and store it in the variable 'int_list2'. after generating the list , find the following: "
   ]
  },
  {
   "cell_type": "markdown",
   "id": "aab4a7c8-ff31-4352-8f4c-b126325f1ad5",
   "metadata": {},
   "source": [
    "## (i) Compare the given list of visualization for the given data:\n",
    "\n",
    "### 1.Frequency & Gaussian distribution\n",
    "### 2.Frequency smoothened KDE plot\n",
    "### 3.Gaussian distributaion & smoothened KDE plot"
   ]
  },
  {
   "cell_type": "code",
   "execution_count": 31,
   "id": "1fdb7521-642a-466b-b51e-1a08c0dd0d4f",
   "metadata": {},
   "outputs": [
    {
     "data": {
      "image/png": "[encoded data removed]",
      "text/plain": [
       "<Figure size 1500x1000 with 3 Axes>"
      ]
     },
     "metadata": {},
     "output_type": "display_data"
    }
   ],
   "source": [
    "import random\n",
    "import numpy as np\n",
    "import matplotlib.pyplot as plt\n",
    "import seaborn as sns\n",
    "\n",
    "# Generate a list of 500 integers containing values between 200 to 300\n",
    "int_list2 = [random.randint(200, 300) for _ in range(500)]\n",
    "\n",
    "# Calculate the mean and standard deviation for Gaussian distribution\n",
    "mean = np.mean(int_list2)\n",
    "std_dev = np.std(int_list2)\n",
    "\n",
    "# Create a range of values for the Gaussian distribution\n",
    "x_values = np.linspace(min(int_list2), max(int_list2), 500)\n",
    "gaussian_distribution = (1 / (std_dev * np.sqrt(2 * np.pi))) * np.exp(-0.5 * ((x_values - mean) / std_dev) ** 2)\n",
    "\n",
    "# Plotting\n",
    "plt.figure(figsize=(15, 10))\n",
    "\n",
    "# 1. Frequency & Gaussian distribution\n",
    "plt.subplot(3, 1, 1)\n",
    "sns.histplot(int_list2, bins=30, kde=False, color='skyblue', label='Frequency', stat='density')\n",
    "plt.plot(x_values, gaussian_distribution, color='red', label='Gaussian distribution')\n",
    "plt.title('Frequency & Gaussian Distribution')\n",
    "plt.legend()\n",
    "\n",
    "# 2. Frequency smoothened KDE plot\n",
    "plt.subplot(3, 1, 2)\n",
    "sns.histplot(int_list2, bins=30, kde=True, color='skyblue', label='Frequency', stat='density')\n",
    "plt.title('Frequency Smoothened KDE Plot')\n",
    "plt.legend()\n",
    "\n",
    "# 3. Gaussian distribution & smoothened KDE plot\n",
    "plt.subplot(3, 1, 3)\n",
    "sns.kdeplot(int_list2, color='blue', label='KDE')\n",
    "plt.plot(x_values, gaussian_distribution, color='red', label='Gaussian distribution')\n",
    "plt.title('Gaussian Distribution & Smoothened KDE Plot')\n",
    "plt.legend()\n",
    "\n",
    "plt.tight_layout()\n",
    "plt.show()\n"
   ]
  },
  {
   "cell_type": "markdown",
   "id": "0af64d56-1c68-4502-a9e3-98e031016c88",
   "metadata": {},
   "source": [
    "## (ii) Write a python function to calculate the range of a given lit of numbers."
   ]
  },
  {
   "cell_type": "code",
   "execution_count": 32,
   "id": "5ba9b83f-d1c4-4572-9737-0db768478a23",
   "metadata": {},
   "outputs": [
    {
     "name": "stdout",
     "output_type": "stream",
     "text": [
      "Range: 11\n"
     ]
    }
   ],
   "source": [
    "def calculate_range(numbers):\n",
    "    if len(numbers) == 0:\n",
    "        raise ValueError(\"The list of numbers must not be empty.\")\n",
    "    \n",
    "    min_value = min(numbers)\n",
    "    max_value = max(numbers)\n",
    "    \n",
    "    range_value = max_value - min_value\n",
    "    return range_value\n",
    "\n",
    "# Example Usage\n",
    "numbers = [3, 7, 1, 12, 5]\n",
    "range_value = calculate_range(numbers)\n",
    "\n",
    "print(f\"Range: {range_value}\")"
   ]
  },
  {
   "cell_type": "markdown",
   "id": "f76df476-fdd9-4579-80e5-e31a901edcd1",
   "metadata": {},
   "source": [
    "## (iii) Create a program to find the variance and standard deviation of a list of numbers."
   ]
  },
  {
   "cell_type": "code",
   "execution_count": 33,
   "id": "1b907236-bd63-4420-a609-8b2e1748efe8",
   "metadata": {},
   "outputs": [
    {
     "name": "stdout",
     "output_type": "stream",
     "text": [
      "Variance: 14.24\n",
      "Standard Deviation: 3.7735924528226414\n"
     ]
    }
   ],
   "source": [
    "def calculate_variance(numbers):\n",
    "    if len(numbers) == 0:\n",
    "        raise ValueError(\"The list of numbers must not be empty.\")\n",
    "    \n",
    "    mean = sum(numbers) / len(numbers)\n",
    "    squared_diff = [(x - mean) ** 2 for x in numbers]\n",
    "    variance = sum(squared_diff) / len(numbers)\n",
    "    \n",
    "    return variance\n",
    "\n",
    "def calculate_standard_deviation(numbers):\n",
    "    variance = calculate_variance(numbers)\n",
    "    standard_deviation = variance ** 0.5\n",
    "    return standard_deviation\n",
    "\n",
    "# Example Usage\n",
    "numbers = [3, 7, 1, 12, 5]\n",
    "\n",
    "variance = calculate_variance(numbers)\n",
    "standard_deviation = calculate_standard_deviation(numbers)\n",
    "\n",
    "print(f\"Variance: {variance}\")\n",
    "print(f\"Standard Deviation: {standard_deviation}\")\n"
   ]
  },
  {
   "cell_type": "markdown",
   "id": "9268d758-521c-4a98-aa28-e05fb2117a4b",
   "metadata": {},
   "source": [
    "## (iv) Implement a function to compute the interquartile range (IQR) of a listof values."
   ]
  },
  {
   "cell_type": "code",
   "execution_count": 34,
   "id": "b9c1e12b-2be5-4f94-a5e9-ea931859807f",
   "metadata": {},
   "outputs": [
    {
     "name": "stdout",
     "output_type": "stream",
     "text": [
      "Interquartile range: 5\n"
     ]
    }
   ],
   "source": [
    "def interquartile_range(values):\n",
    "    \"\"\"\n",
    "    Compute the interquartile range (IQR) of a list of values.\n",
    "    \n",
    "    Args:\n",
    "        values (list of float): The list of numerical values.\n",
    "        \n",
    "    Returns:\n",
    "        float: The interquartile range (IQR).\n",
    "    \"\"\"\n",
    "    # First, sort the values\n",
    "    sorted_values = sorted(values)\n",
    "    \n",
    "    # Find the index for the first quartile (Q1)\n",
    "    q1_index = (len(sorted_values) - 1) // 4\n",
    "    \n",
    "    # Find the index for the third quartile (Q3)\n",
    "    q3_index = 3 * (len(sorted_values) - 1) // 4\n",
    "    \n",
    "    # Calculate Q1 and Q3\n",
    "    q1 = sorted_values[q1_index]\n",
    "    q3 = sorted_values[q3_index]\n",
    "    \n",
    "    # Calculate IQR\n",
    "    iqr = q3 - q1\n",
    "    \n",
    "    return iqr\n",
    "\n",
    "# Example usage:\n",
    "data = [12, 23, 14, 15, 16, 18, 19, 20, 22]\n",
    "print(\"Interquartile range:\", interquartile_range(data))\n"
   ]
  },
  {
   "cell_type": "markdown",
   "id": "b4672a43-c10c-4e20-8455-4b389f67d953",
   "metadata": {},
   "source": [
    "## (V)Build a program to calculate the coefficient of variation for a dataset."
   ]
  },
  {
   "cell_type": "code",
   "execution_count": 37,
   "id": "90cb5f60-8114-43fa-99ba-2deea045bd2d",
   "metadata": {},
   "outputs": [
    {
     "name": "stdout",
     "output_type": "stream",
     "text": [
      "Coefficient of Variation: 37.5903532342794\n"
     ]
    }
   ],
   "source": [
    "def coefficient_of_variation(data):\n",
    "    \"\"\"\n",
    "    Calculate the coefficient of variation (CV) for a dataset.\n",
    "\n",
    "    Args:\n",
    "        data (list of float): The dataset.\n",
    "\n",
    "    Returns:\n",
    "        float: The coefficient of variation.\n",
    "    \"\"\"\n",
    "    if len(data) < 2:\n",
    "        raise ValueError(\"Dataset must contain at least two values.\")\n",
    "\n",
    "    mean = sum(data) / len(data)\n",
    "    variance = sum((x - mean) ** 2 for x in data) / len(data)\n",
    "    standard_deviation = variance ** 0.5\n",
    "\n",
    "    coefficient_variation = (standard_deviation / mean) * 100\n",
    "    return coefficient_variation\n",
    "\n",
    "\n",
    "# Example usage:\n",
    "dataset = [32, 45, 67, 89, 54, 23, 56, 78]\n",
    "cv = coefficient_of_variation(dataset)\n",
    "print(\"Coefficient of Variation:\", cv)\n"
   ]
  },
  {
   "cell_type": "markdown",
   "id": "26ea14ba-aa46-4365-98df-aade908682fd",
   "metadata": {},
   "source": [
    "## (vi) Write a python function to find the mean absolute deviation (MAD) of a list of numbers."
   ]
  },
  {
   "cell_type": "code",
   "execution_count": 38,
   "id": "77182ada-0f2d-4679-b665-fb5b1a653229",
   "metadata": {},
   "outputs": [
    {
     "name": "stdout",
     "output_type": "stream",
     "text": [
      "Mean Absolute Deviation: 2.6122448979591835\n"
     ]
    }
   ],
   "source": [
    "def mean_absolute_deviation(data):\n",
    "    \"\"\"\n",
    "    Calculate the mean absolute deviation (MAD) for a list of numbers.\n",
    "\n",
    "    Args:\n",
    "        data (list of float): The list of numbers.\n",
    "\n",
    "    Returns:\n",
    "        float: The mean absolute deviation.\n",
    "    \"\"\"\n",
    "    if len(data) == 0:\n",
    "        raise ValueError(\"Dataset is empty.\")\n",
    "\n",
    "    mean = sum(data) / len(data)\n",
    "    absolute_deviations = [abs(x - mean) for x in data]\n",
    "    mad = sum(absolute_deviations) / len(data)\n",
    "    return mad\n",
    "\n",
    "\n",
    "# Example usage:\n",
    "numbers = [5, 8, 10, 15, 12, 6, 9]\n",
    "mad_result = mean_absolute_deviation(numbers)\n",
    "print(\"Mean Absolute Deviation:\", mad_result)\n"
   ]
  },
  {
   "cell_type": "markdown",
   "id": "c433ed91-fb07-4ced-af49-cd42fde8d1cc",
   "metadata": {},
   "source": [
    "## (vii) Create a program to calculate the quartile deviation of a list of values."
   ]
  },
  {
   "cell_type": "code",
   "execution_count": 39,
   "id": "0d76aafe-02c7-4afa-ade0-f9a062e48fed",
   "metadata": {},
   "outputs": [
    {
     "name": "stdout",
     "output_type": "stream",
     "text": [
      "Quartile Deviation: 2.5\n"
     ]
    }
   ],
   "source": [
    "def quartile_deviation(values):\n",
    "    \"\"\"\n",
    "    Calculate the quartile deviation of a list of values.\n",
    "\n",
    "    Args:\n",
    "        values (list of float): The list of numerical values.\n",
    "\n",
    "    Returns:\n",
    "        float: The quartile deviation.\n",
    "    \"\"\"\n",
    "    if len(values) < 4:\n",
    "        raise ValueError(\"Dataset must contain at least four values.\")\n",
    "\n",
    "    # First, sort the values\n",
    "    sorted_values = sorted(values)\n",
    "    \n",
    "    # Find the index for the first quartile (Q1)\n",
    "    q1_index = (len(sorted_values) - 1) // 4\n",
    "    \n",
    "    # Find the index for the third quartile (Q3)\n",
    "    q3_index = 3 * (len(sorted_values) - 1) // 4\n",
    "    \n",
    "    # Calculate Q1 and Q3\n",
    "    q1 = sorted_values[q1_index]\n",
    "    q3 = sorted_values[q3_index]\n",
    "    \n",
    "    # Calculate quartile deviation (QD)\n",
    "    qd = (q3 - q1) / 2\n",
    "    \n",
    "    return qd\n",
    "\n",
    "\n",
    "# Example usage:\n",
    "data = [12, 23, 14, 15, 16, 18, 19, 20, 22]\n",
    "qd = quartile_deviation(data)\n",
    "print(\"Quartile Deviation:\", qd)\n"
   ]
  },
  {
   "cell_type": "markdown",
   "id": "7ef247de-a0b2-49cd-8931-914c7258cc4a",
   "metadata": {},
   "source": [
    "## (viii) Implement a function to find the range-based coefficient of dispersion for a dataset."
   ]
  },
  {
   "cell_type": "code",
   "execution_count": 40,
   "id": "f09d2593-4541-4661-86ce-871dec60b6cc",
   "metadata": {},
   "outputs": [
    {
     "name": "stdout",
     "output_type": "stream",
     "text": [
      "Range-based Coefficient of Dispersion: 1.1891891891891893\n"
     ]
    }
   ],
   "source": [
    "def range_based_coefficient_of_dispersion(data):\n",
    "    \"\"\"\n",
    "    Calculate the range-based coefficient of dispersion (RCD) for a dataset.\n",
    "\n",
    "    Args:\n",
    "        data (list of float): The dataset.\n",
    "\n",
    "    Returns:\n",
    "        float: The range-based coefficient of dispersion.\n",
    "    \"\"\"\n",
    "    if len(data) < 2:\n",
    "        raise ValueError(\"Dataset must contain at least two values.\")\n",
    "\n",
    "    # Calculate the range\n",
    "    data_range = max(data) - min(data)\n",
    "\n",
    "    # Calculate the mean\n",
    "    mean = sum(data) / len(data)\n",
    "\n",
    "    # Calculate the range-based coefficient of dispersion\n",
    "    rcd = data_range / mean\n",
    "\n",
    "    return rcd\n",
    "\n",
    "\n",
    "# Example usage:\n",
    "dataset = [32, 45, 67, 89, 54, 23, 56, 78]\n",
    "rcd = range_based_coefficient_of_dispersion(dataset)\n",
    "print(\"Range-based Coefficient of Dispersion:\", rcd)\n"
   ]
  },
  {
   "cell_type": "markdown",
   "id": "406947ca-05af-4c1d-b411-0a4581224b00",
   "metadata": {},
   "source": [
    "# 3. Write a python class representing a discrete random variable with methods to calculate its expected value and variance."
   ]
  },
  {
   "cell_type": "code",
   "execution_count": 41,
   "id": "cb69b7ec-d881-4d43-84c3-a727bdb44567",
   "metadata": {},
   "outputs": [
    {
     "name": "stdout",
     "output_type": "stream",
     "text": [
      "Expected Value: 3.2\n",
      "Variance: 1.56\n"
     ]
    }
   ],
   "source": [
    "class DiscreteRandomVariable:\n",
    "    def __init__(self, values, probabilities):\n",
    "        \"\"\"\n",
    "        Initialize the DiscreteRandomVariable with values and their corresponding probabilities.\n",
    "\n",
    "        Args:\n",
    "            values (list): The list of possible values of the random variable.\n",
    "            probabilities (list): The list of probabilities corresponding to each value.\n",
    "        \"\"\"\n",
    "        if len(values) != len(probabilities):\n",
    "            raise ValueError(\"Number of values and probabilities must match.\")\n",
    "\n",
    "        self.values = values\n",
    "        self.probabilities = probabilities\n",
    "\n",
    "    def expected_value(self):\n",
    "        \"\"\"\n",
    "        Calculate the expected value of the discrete random variable.\n",
    "\n",
    "        Returns:\n",
    "            float: The expected value.\n",
    "        \"\"\"\n",
    "        expected_value = sum(value * prob for value, prob in zip(self.values, self.probabilities))\n",
    "        return expected_value\n",
    "\n",
    "    def variance(self):\n",
    "        \"\"\"\n",
    "        Calculate the variance of the discrete random variable.\n",
    "\n",
    "        Returns:\n",
    "            float: The variance.\n",
    "        \"\"\"\n",
    "        expected_value = self.expected_value()\n",
    "        variance = sum((value - expected_value) ** 2 * prob for value, prob in zip(self.values, self.probabilities))\n",
    "        return variance\n",
    "\n",
    "\n",
    "# Example usage:\n",
    "values = [1, 2, 3, 4, 5]\n",
    "probabilities = [0.1, 0.2, 0.3, 0.2, 0.2]\n",
    "\n",
    "rv = DiscreteRandomVariable(values, probabilities)\n",
    "print(\"Expected Value:\", rv.expected_value())\n",
    "print(\"Variance:\", rv.variance())\n"
   ]
  },
  {
   "cell_type": "markdown",
   "id": "e760cd04-ba3f-4d17-a500-b3c0007da792",
   "metadata": {},
   "source": [
    "# 4.Implement a program to simulate the rolling of a faair six-side die and calculate the expected value and variance of the outcomes."
   ]
  },
  {
   "cell_type": "code",
   "execution_count": 42,
   "id": "d642eedb-d34c-4ef8-93e3-151fab99921f",
   "metadata": {},
   "outputs": [
    {
     "name": "stdout",
     "output_type": "stream",
     "text": [
      "Expected Value: 3.4961\n",
      "Variance: 2.9170447899999985\n"
     ]
    }
   ],
   "source": [
    "import random\n",
    "\n",
    "class FairSixSidedDie:\n",
    "    def __init__(self):\n",
    "        \"\"\"\n",
    "        Initialize a fair six-sided die.\n",
    "        \"\"\"\n",
    "        self.sides = 6\n",
    "\n",
    "    def roll(self):\n",
    "        \"\"\"\n",
    "        Simulate rolling the die.\n",
    "\n",
    "        Returns:\n",
    "            int: The outcome of the roll (a number between 1 and 6).\n",
    "        \"\"\"\n",
    "        return random.randint(1, self.sides)\n",
    "\n",
    "\n",
    "# Simulation parameters\n",
    "num_rolls = 100000  # Number of times to roll the die\n",
    "\n",
    "# Simulate rolling the die\n",
    "die = FairSixSidedDie()\n",
    "outcomes = [die.roll() for _ in range(num_rolls)]\n",
    "\n",
    "# Calculate expected value\n",
    "expected_value = sum(outcomes) / num_rolls\n",
    "\n",
    "# Calculate variance\n",
    "mean_square = sum(x ** 2 for x in outcomes) / num_rolls\n",
    "variance = mean_square - expected_value ** 2\n",
    "\n",
    "print(\"Expected Value:\", expected_value)\n",
    "print(\"Variance:\", variance)\n"
   ]
  },
  {
   "cell_type": "markdown",
   "id": "10b9f281-5b20-4c94-89ea-e11fb1bdab59",
   "metadata": {},
   "source": [
    "# 5. Create a python function to generate random samples from a given probability distribution(e.g., binomial, poisson) and calculate their mean and variance."
   ]
  },
  {
   "cell_type": "code",
   "execution_count": 43,
   "id": "464307d9-3b56-43d0-b998-09fc71835a9e",
   "metadata": {},
   "outputs": [
    {
     "name": "stdout",
     "output_type": "stream",
     "text": [
      "Mean: 4.9851, Variance: 2.47767799\n"
     ]
    }
   ],
   "source": [
    "import numpy as np\n",
    "\n",
    "def sample_mean_and_variance(distribution, params, sample_size):\n",
    "    \"\"\"\n",
    "    Generate random samples from a given probability distribution and calculate their mean and variance.\n",
    "\n",
    "    Args:\n",
    "        distribution (str): The probability distribution ('binomial' or 'poisson').\n",
    "        params (tuple): Parameters required for the distribution.\n",
    "        sample_size (int): Number of samples to generate.\n",
    "\n",
    "    Returns:\n",
    "        tuple: Mean and variance of the generated samples.\n",
    "    \"\"\"\n",
    "    if distribution == 'binomial':\n",
    "        n, p = params\n",
    "        samples = np.random.binomial(n, p, sample_size)\n",
    "    elif distribution == 'poisson':\n",
    "        lam = params[0]\n",
    "        samples = np.random.poisson(lam, sample_size)\n",
    "    else:\n",
    "        raise ValueError(\"Invalid distribution. Choose 'binomial' or 'poisson'.\")\n",
    "\n",
    "    sample_mean = np.mean(samples)\n",
    "    sample_variance = np.var(samples)\n",
    "\n",
    "    return sample_mean, sample_variance\n",
    "\n",
    "\n",
    "# Example usage:\n",
    "distribution = 'binomial'\n",
    "params = (10, 0.5)  # n = 10, p = 0.5\n",
    "sample_size = 10000\n",
    "\n",
    "mean, variance = sample_mean_and_variance(distribution, params, sample_size)\n",
    "print(f\"Mean: {mean}, Variance: {variance}\")\n"
   ]
  },
  {
   "cell_type": "markdown",
   "id": "4dea0835-4968-40e1-878d-301d3b03711b",
   "metadata": {},
   "source": [
    "# 6. Write a python script to generate random numbers from a Gaussian(normal) distribuation and compute the mean, vaiance, and standard deviation of the samples."
   ]
  },
  {
   "cell_type": "code",
   "execution_count": 44,
   "id": "91401ba4-0685-4f77-a15d-22bb6c7bab41",
   "metadata": {},
   "outputs": [
    {
     "name": "stdout",
     "output_type": "stream",
     "text": [
      "Mean: -0.015595279475879147\n",
      "Variance: 0.9717915601492623\n",
      "Standard Deviation: 0.9857948874635445\n"
     ]
    }
   ],
   "source": [
    "import numpy as np\n",
    "\n",
    "def generate_normal_samples(mean, std_dev, sample_size):\n",
    "    \"\"\"\n",
    "    Generate random samples from a Gaussian (normal) distribution.\n",
    "\n",
    "    Args:\n",
    "        mean (float): Mean of the distribution.\n",
    "        std_dev (float): Standard deviation of the distribution.\n",
    "        sample_size (int): Number of samples to generate.\n",
    "\n",
    "    Returns:\n",
    "        numpy.ndarray: Array of generated random samples.\n",
    "    \"\"\"\n",
    "    samples = np.random.normal(mean, std_dev, sample_size)\n",
    "    return samples\n",
    "\n",
    "def compute_stats(samples):\n",
    "    \"\"\"\n",
    "    Compute the mean, variance, and standard deviation of the samples.\n",
    "\n",
    "    Args:\n",
    "        samples (numpy.ndarray): Array of samples.\n",
    "\n",
    "    Returns:\n",
    "        tuple: Mean, variance, and standard deviation of the samples.\n",
    "    \"\"\"\n",
    "    mean = np.mean(samples)\n",
    "    variance = np.var(samples)\n",
    "    std_dev = np.std(samples)\n",
    "    return mean, variance, std_dev\n",
    "\n",
    "# Parameters\n",
    "mean = 0\n",
    "std_dev = 1\n",
    "sample_size = 10000\n",
    "\n",
    "# Generate random samples\n",
    "samples = generate_normal_samples(mean, std_dev, sample_size)\n",
    "\n",
    "# Compute statistics\n",
    "mean, variance, std_dev = compute_stats(samples)\n",
    "\n",
    "# Output results\n",
    "print(f\"Mean: {mean}\")\n",
    "print(f\"Variance: {variance}\")\n",
    "print(f\"Standard Deviation: {std_dev}\")\n"
   ]
  },
  {
   "cell_type": "markdown",
   "id": "301d9b8d-e51e-4bf2-97ca-f9fa1b0f3868",
   "metadata": {},
   "source": [
    "# 7. Use seaborn library to load'tips' dataset.Find the Following from the dataset form the dataset for the calumns 'total_bill' and 'tip':\n"
   ]
  },
  {
   "cell_type": "markdown",
   "id": "58e14d3a-7562-4bd7-ab97-98c6a3d9eeb2",
   "metadata": {},
   "source": [
    "## (i) Write a python function that calculates their skewness."
   ]
  },
  {
   "cell_type": "code",
   "execution_count": 48,
   "id": "f222f59b-2af6-468e-b4d4-68da155980cf",
   "metadata": {},
   "outputs": [
    {
     "name": "stdout",
     "output_type": "stream",
     "text": [
      "Skewness for 'total_bill': 1.1262346334818638\n",
      "Skewness for 'tip': 1.4564266884221506\n"
     ]
    }
   ],
   "source": [
    "import seaborn as sns\n",
    "import numpy as np\n",
    "\n",
    "# Load the 'tips' dataset from Seaborn\n",
    "tips_data = sns.load_dataset('tips')\n",
    "\n",
    "# Extract 'total_bill' and 'tip' columns\n",
    "total_bill = tips_data['total_bill']\n",
    "tip = tips_data['tip']\n",
    "\n",
    "# Function to calculate skewness\n",
    "def calculate_skewness(data):\n",
    "    \"\"\"\n",
    "    Calculate the skewness of a dataset.\n",
    "\n",
    "    Args:\n",
    "        data (numpy.ndarray or list): The dataset.\n",
    "\n",
    "    Returns:\n",
    "        float: The skewness of the dataset.\n",
    "    \"\"\"\n",
    "    if isinstance(data, list):\n",
    "        data = np.array(data)\n",
    "\n",
    "    mean = np.mean(data)\n",
    "    std_dev = np.std(data)\n",
    "    skewness = np.mean((data - mean) ** 3) / std_dev ** 3\n",
    "\n",
    "    return skewness\n",
    "\n",
    "# Example usage:\n",
    "total_bill_skewness = calculate_skewness(total_bill)\n",
    "tip_skewness = calculate_skewness(tip)\n",
    "\n",
    "print(\"Skewness for 'total_bill':\", total_bill_skewness)\n",
    "print(\"Skewness for 'tip':\", tip_skewness)\n"
   ]
  },
  {
   "cell_type": "markdown",
   "id": "859db18c-7e7f-47de-9407-b1841523ea55",
   "metadata": {},
   "source": [
    "## (ii) Create a program that determines whether the columns exhibit positive skewness, negative skewness, or is approximately symmetric."
   ]
  },
  {
   "cell_type": "code",
   "execution_count": 49,
   "id": "45b692e6-8935-42a8-9b5e-1a3d5cce19fb",
   "metadata": {},
   "outputs": [
    {
     "name": "stdout",
     "output_type": "stream",
     "text": [
      "Skewness classification for 'total_bill': Positive skewness\n",
      "Skewness classification for 'tip': Positive skewness\n"
     ]
    }
   ],
   "source": [
    "import seaborn as sns\n",
    "import numpy as np\n",
    "\n",
    "# Load the 'tips' dataset from Seaborn\n",
    "tips_data = sns.load_dataset('tips')\n",
    "\n",
    "# Extract 'total_bill' and 'tip' columns\n",
    "total_bill = tips_data['total_bill']\n",
    "tip = tips_data['tip']\n",
    "\n",
    "# Function to calculate skewness\n",
    "def calculate_skewness(data):\n",
    "    \"\"\"\n",
    "    Calculate the skewness of a dataset.\n",
    "\n",
    "    Args:\n",
    "        data (numpy.ndarray or list): The dataset.\n",
    "\n",
    "    Returns:\n",
    "        float: The skewness of the dataset.\n",
    "    \"\"\"\n",
    "    if isinstance(data, list):\n",
    "        data = np.array(data)\n",
    "\n",
    "    mean = np.mean(data)\n",
    "    std_dev = np.std(data)\n",
    "    skewness = np.mean((data - mean) ** 3) / std_dev ** 3\n",
    "\n",
    "    return skewness\n",
    "\n",
    "# Determine skewness for 'total_bill' and 'tip'\n",
    "total_bill_skewness = calculate_skewness(total_bill)\n",
    "tip_skewness = calculate_skewness(tip)\n",
    "\n",
    "# Thresholds for skewness classification\n",
    "positive_skew_threshold = 0.5\n",
    "negative_skew_threshold = -0.5\n",
    "\n",
    "# Classification\n",
    "def classify_skewness(skewness):\n",
    "    if skewness > positive_skew_threshold:\n",
    "        return \"Positive skewness\"\n",
    "    elif skewness < negative_skew_threshold:\n",
    "        return \"Negative skewness\"\n",
    "    else:\n",
    "        return \"Approximately symmetric\"\n",
    "\n",
    "# Classification for 'total_bill'\n",
    "total_bill_classification = classify_skewness(total_bill_skewness)\n",
    "\n",
    "# Classification for 'tip'\n",
    "tip_classification = classify_skewness(tip_skewness)\n",
    "\n",
    "# Output results\n",
    "print(\"Skewness classification for 'total_bill':\", total_bill_classification)\n",
    "print(\"Skewness classification for 'tip':\", tip_classification)\n"
   ]
  },
  {
   "cell_type": "markdown",
   "id": "a711074e-ac67-45ae-9a70-29a246e785de",
   "metadata": {},
   "source": [
    "## (iii) Write a function that calculates the covariance between two columns."
   ]
  },
  {
   "cell_type": "code",
   "execution_count": 50,
   "id": "257f9ffe-5b65-44f1-bb78-135c52374b0f",
   "metadata": {},
   "outputs": [
    {
     "name": "stdout",
     "output_type": "stream",
     "text": [
      "Covariance between 'total_bill' and 'tip': 8.289388917629669\n"
     ]
    }
   ],
   "source": [
    "def calculate_covariance(column1, column2):\n",
    "    \"\"\"\n",
    "    Calculate the covariance between two columns.\n",
    "\n",
    "    Args:\n",
    "        column1 (numpy.ndarray or list): The first column.\n",
    "        column2 (numpy.ndarray or list): The second column.\n",
    "\n",
    "    Returns:\n",
    "        float: The covariance between the two columns.\n",
    "    \"\"\"\n",
    "    if isinstance(column1, list):\n",
    "        column1 = np.array(column1)\n",
    "    if isinstance(column2, list):\n",
    "        column2 = np.array(column2)\n",
    "\n",
    "    mean1 = np.mean(column1)\n",
    "    mean2 = np.mean(column2)\n",
    "\n",
    "    covariance = np.mean((column1 - mean1) * (column2 - mean2))\n",
    "\n",
    "    return covariance\n",
    "\n",
    "# Example usage:\n",
    "covariance_total_bill_tip = calculate_covariance(total_bill, tip)\n",
    "print(\"Covariance between 'total_bill' and 'tip':\", covariance_total_bill_tip)\n"
   ]
  },
  {
   "cell_type": "markdown",
   "id": "825204da-f0bf-4fc7-81b9-a2c47aa7df9a",
   "metadata": {},
   "source": [
    "## (iv) Implement a python program that calculates the pearson correlation coefficient between two columns."
   ]
  },
  {
   "cell_type": "code",
   "execution_count": 51,
   "id": "a5bc0b3d-7b2c-4272-a441-8a648f611c22",
   "metadata": {},
   "outputs": [
    {
     "name": "stdout",
     "output_type": "stream",
     "text": [
      "Pearson correlation coefficient between 'total_bill' and 'tip': 0.6757341092113647\n"
     ]
    }
   ],
   "source": [
    "import numpy as np\n",
    "\n",
    "def calculate_pearson_correlation(column1, column2):\n",
    "    \"\"\"\n",
    "    Calculate the Pearson correlation coefficient between two columns.\n",
    "\n",
    "    Args:\n",
    "        column1 (numpy.ndarray or list): The first column.\n",
    "        column2 (numpy.ndarray or list): The second column.\n",
    "\n",
    "    Returns:\n",
    "        float: The Pearson correlation coefficient between the two columns.\n",
    "    \"\"\"\n",
    "    if isinstance(column1, list):\n",
    "        column1 = np.array(column1)\n",
    "    if isinstance(column2, list):\n",
    "        column2 = np.array(column2)\n",
    "\n",
    "    covariance = np.cov(column1, column2, ddof=0)[0, 1]\n",
    "    std_dev1 = np.std(column1)\n",
    "    std_dev2 = np.std(column2)\n",
    "\n",
    "    correlation_coefficient = covariance / (std_dev1 * std_dev2)\n",
    "\n",
    "    return correlation_coefficient\n",
    "\n",
    "# Example usage:\n",
    "pearson_correlation_total_bill_tip = calculate_pearson_correlation(total_bill, tip)\n",
    "print(\"Pearson correlation coefficient between 'total_bill' and 'tip':\", pearson_correlation_total_bill_tip)\n"
   ]
  },
  {
   "cell_type": "markdown",
   "id": "880d41eb-35e5-42c9-8129-c12231d5f09e",
   "metadata": {},
   "source": [
    "## (v) Write a script to visualize the correlation between two specific columns in a pandas dataframe using scatter plots."
   ]
  },
  {
   "cell_type": "code",
   "execution_count": 52,
   "id": "316648cd-df35-4857-a2b1-d5c28d7b0e99",
   "metadata": {},
   "outputs": [
    {
     "data": {
      "image/png": "[encoded data removed]",
      "text/plain": [
       "<Figure size 800x600 with 1 Axes>"
      ]
     },
     "metadata": {},
     "output_type": "display_data"
    }
   ],
   "source": [
    "import pandas as pd\n",
    "import matplotlib.pyplot as plt\n",
    "\n",
    "# Sample DataFrame (you can replace this with your own DataFrame)\n",
    "data = {\n",
    "    'total_bill': [16.99, 10.34, 21.01, 23.68, 24.59],\n",
    "    'tip': [1.01, 1.66, 3.50, 3.31, 3.61]\n",
    "}\n",
    "df = pd.DataFrame(data)\n",
    "\n",
    "# Function to visualize correlation using scatter plots\n",
    "def visualize_correlation(df, column1, column2):\n",
    "    \"\"\"\n",
    "    Visualize the correlation between two columns in a DataFrame using scatter plots.\n",
    "\n",
    "    Args:\n",
    "        df (pandas.DataFrame): The DataFrame containing the columns.\n",
    "        column1 (str): The name of the first column.\n",
    "        column2 (str): The name of the second column.\n",
    "    \"\"\"\n",
    "    plt.figure(figsize=(8, 6))\n",
    "    plt.scatter(df[column1], df[column2])\n",
    "    plt.title(f'Scatter Plot: {column1} vs {column2}')\n",
    "    plt.xlabel(column1)\n",
    "    plt.ylabel(column2)\n",
    "    plt.grid(True)\n",
    "    plt.show()\n",
    "\n",
    "# Example usage:\n",
    "visualize_correlation(df, 'total_bill', 'tip')\n"
   ]
  },
  {
   "cell_type": "markdown",
   "id": "d8b169fc-ef18-495f-8f02-7cfaaf126d08",
   "metadata": {},
   "source": [
    "# 8. Write a python function to calculate the probability density function(PDF) of a continuous random variable for a given normal distribution."
   ]
  },
  {
   "cell_type": "code",
   "execution_count": 53,
   "id": "d090a2f1-07bd-493d-919c-16c696c82f6a",
   "metadata": {},
   "outputs": [
    {
     "name": "stdout",
     "output_type": "stream",
     "text": [
      "PDF at x = 2.5 : 0.01752830049356854\n"
     ]
    }
   ],
   "source": [
    "import numpy as np\n",
    "\n",
    "def normal_pdf(x, mean, variance):\n",
    "    \"\"\"\n",
    "    Calculate the probability density function (PDF) of a continuous random variable for a normal distribution.\n",
    "\n",
    "    Args:\n",
    "        x (float or numpy.ndarray): The value(s) at which to evaluate the PDF.\n",
    "        mean (float): The mean of the normal distribution.\n",
    "        variance (float): The variance of the normal distribution.\n",
    "\n",
    "    Returns:\n",
    "        float or numpy.ndarray: The PDF value(s) corresponding to the given value(s) of x.\n",
    "    \"\"\"\n",
    "    coefficient = 1 / np.sqrt(2 * np.pi * variance)\n",
    "    exponent = -((x - mean) ** 2) / (2 * variance)\n",
    "    pdf = coefficient * np.exp(exponent)\n",
    "    return pdf\n",
    "\n",
    "# Example usage:\n",
    "x = 2.5\n",
    "mean = 0\n",
    "variance = 1\n",
    "pdf_value = normal_pdf(x, mean, variance)\n",
    "print(\"PDF at x =\", x, \":\", pdf_value)\n"
   ]
  },
  {
   "cell_type": "markdown",
   "id": "122f584f-402c-4268-b012-55af5dc82f15",
   "metadata": {},
   "source": [
    "# 9. Create a program to calculate the cumulative distribuation function (CDF) of exponential distribution."
   ]
  },
  {
   "cell_type": "code",
   "execution_count": 54,
   "id": "4b4bd137-bf6c-44bb-8873-5cb9d5fa8170",
   "metadata": {},
   "outputs": [
    {
     "name": "stdout",
     "output_type": "stream",
     "text": [
      "CDF at x = 2.5 : 0.7134952031398099\n"
     ]
    }
   ],
   "source": [
    "import numpy as np\n",
    "\n",
    "def exponential_cdf(x, rate):\n",
    "    \"\"\"\n",
    "    Calculate the cumulative distribution function (CDF) of the exponential distribution.\n",
    "\n",
    "    Args:\n",
    "        x (float or numpy.ndarray): The value(s) at which to evaluate the CDF.\n",
    "        rate (float): The rate parameter of the exponential distribution.\n",
    "\n",
    "    Returns:\n",
    "        float or numpy.ndarray: The CDF value(s) corresponding to the given value(s) of x.\n",
    "    \"\"\"\n",
    "    if isinstance(x, (int, float)):\n",
    "        if x >= 0:\n",
    "            cdf = 1 - np.exp(-rate * x)\n",
    "        else:\n",
    "            cdf = 0\n",
    "    else:\n",
    "        cdf = np.where(x >= 0, 1 - np.exp(-rate * x), 0)\n",
    "    return cdf\n",
    "\n",
    "# Example usage:\n",
    "x = 2.5\n",
    "rate = 0.5\n",
    "cdf_value = exponential_cdf(x, rate)\n",
    "print(\"CDF at x =\", x, \":\", cdf_value)\n"
   ]
  },
  {
   "cell_type": "markdown",
   "id": "70d31295-583e-45b6-8f4e-114f787a48cf",
   "metadata": {},
   "source": [
    "# 10. Write a python function to calculate the probability mass function(PMF) of Posisson distribution."
   ]
  },
  {
   "cell_type": "code",
   "execution_count": 55,
   "id": "5dd677d5-ae27-4673-a352-e23bc3e38129",
   "metadata": {},
   "outputs": [
    {
     "name": "stdout",
     "output_type": "stream",
     "text": [
      "PMF at k = 3 : 0.1804470443154836\n"
     ]
    }
   ],
   "source": [
    "import numpy as np\n",
    "import math\n",
    "\n",
    "def poisson_pmf(k, rate):\n",
    "    \"\"\"\n",
    "    Calculate the probability mass function (PMF) of the Poisson distribution.\n",
    "\n",
    "    Args:\n",
    "        k (int or numpy.ndarray): The value(s) at which to evaluate the PMF.\n",
    "        rate (float): The rate parameter of the Poisson distribution.\n",
    "\n",
    "    Returns:\n",
    "        float or numpy.ndarray: The PMF value(s) corresponding to the given value(s) of k.\n",
    "    \"\"\"\n",
    "    if isinstance(k, (int, float)):\n",
    "        pmf = np.exp(-rate) * (rate ** k) / math.factorial(k)\n",
    "    else:\n",
    "        pmf = np.exp(-rate) * (rate ** k) / np.array([math.factorial(ki) for ki in k])\n",
    "    return pmf\n",
    "\n",
    "# Example usage:\n",
    "k = 3\n",
    "rate = 2\n",
    "pmf_value = poisson_pmf(k, rate)\n",
    "print(\"PMF at k =\", k, \":\", pmf_value)\n"
   ]
  },
  {
   "cell_type": "markdown",
   "id": "5ae37247-0dd0-4ab9-af9a-16ba2f4e1825",
   "metadata": {},
   "source": [
    "# 11. A company wants to test if a new website layout leads to a higher conversion rate (percentage oN visitors\n",
    "# who make a purchase). They collect data Nrom the old and new layouts to compare.\n",
    "\n",
    "\n",
    "# To generate the data use the following command:\n",
    "\n",
    "# ```python\n",
    "\n",
    "# import numpy as np\n",
    "\n",
    "# 50 purchases out of 1000 visitors\n",
    "\n",
    "# old_layout = np.array([1] * 50 + [0] * 950)\n",
    "\n",
    "# 70 purchases out of 1000 visitors  \n",
    "\n",
    "# new_layout = <p.array([1] * 70 + [0] * 930)\n",
    "\n",
    "#  ```\n",
    "\n",
    "# Apply z-test to find which layout is successful."
   ]
  },
  {
   "cell_type": "code",
   "execution_count": 58,
   "id": "f5be858e-998a-447a-ba5f-23f375516a69",
   "metadata": {},
   "outputs": [
    {
     "name": "stdout",
     "output_type": "stream",
     "text": [
      "The new layout is statistically significantly more successful than the old layout (p < 0.05).\n",
      "Z-statistic: -1.883108942886774\n",
      "P-value: 0.029842802766213105\n"
     ]
    }
   ],
   "source": [
    "import numpy as np\n",
    "from statsmodels.stats.proportion import proportions_ztest\n",
    "\n",
    "# Data\n",
    "old_layout = np.array([1] * 50 + [0] * 950)\n",
    "new_layout = np.array([1] * 70 + [0] * 930)\n",
    "\n",
    "# Number of successes (purchases) and total observations (visitors) for each layout\n",
    "successes_old = np.sum(old_layout)\n",
    "observations_old = len(old_layout)\n",
    "successes_new = np.sum(new_layout)\n",
    "observations_new = len(new_layout)\n",
    "\n",
    "# Applying z-test for proportions\n",
    "count = np.array([successes_old, successes_new])\n",
    "nobs = np.array([observations_old, observations_new])\n",
    "\n",
    "# Alternative hypothesis: 'smaller' indicates old_layout has a lower conversion rate than new_layout\n",
    "# This means we are testing if new_layout is more successful\n",
    "z_stat, p_value = proportions_ztest(count, nobs, alternative='smaller')\n",
    "\n",
    "# Check significance level (e.g., alpha = 0.05)\n",
    "alpha = 0.05\n",
    "if p_value < alpha:\n",
    "    print(\"The new layout is statistically significantly more successful than the old layout (p < 0.05).\")\n",
    "else:\n",
    "    print(\"There is no statistically significant difference between the old and new layouts (p >= 0.05).\")\n",
    "\n",
    "print(f\"Z-statistic: {z_stat}\")\n",
    "print(f\"P-value: {p_value}\")\n"
   ]
  },
  {
   "cell_type": "code",
   "execution_count": 57,
   "id": "d7927b71-501d-4c07-9554-395d154f3653",
   "metadata": {},
   "outputs": [
    {
     "name": "stdout",
     "output_type": "stream",
     "text": [
      "Defaulting to user installation because normal site-packages is not writeable\n",
      "Collecting statsmodels\n",
      "  Downloading statsmodels-0.14.2-cp312-cp312-win_amd64.whl.metadata (9.5 kB)\n",
      "Requirement already satisfied: numpy>=1.22.3 in c:\\users\\user\\appdata\\roaming\\python\\python312\\site-packages (from statsmodels) (1.26.4)\n",
      "Requirement already satisfied: scipy!=1.9.2,>=1.8 in c:\\users\\user\\appdata\\roaming\\python\\python312\\site-packages (from statsmodels) (1.13.0)\n",
      "Requirement already satisfied: pandas!=2.1.0,>=1.4 in c:\\users\\user\\appdata\\roaming\\python\\python312\\site-packages (from statsmodels) (2.2.2)\n",
      "Collecting patsy>=0.5.6 (from statsmodels)\n",
      "  Downloading patsy-0.5.6-py2.py3-none-any.whl.metadata (3.5 kB)\n",
      "Requirement already satisfied: packaging>=21.3 in c:\\program files\\python312\\lib\\site-packages (from statsmodels) (24.0)\n",
      "Requirement already satisfied: python-dateutil>=2.8.2 in c:\\program files\\python312\\lib\\site-packages (from pandas!=2.1.0,>=1.4->statsmodels) (2.9.0.post0)\n",
      "Requirement already satisfied: pytz>=2020.1 in c:\\users\\user\\appdata\\roaming\\python\\python312\\site-packages (from pandas!=2.1.0,>=1.4->statsmodels) (2024.1)\n",
      "Requirement already satisfied: tzdata>=2022.7 in c:\\users\\user\\appdata\\roaming\\python\\python312\\site-packages (from pandas!=2.1.0,>=1.4->statsmodels) (2024.1)\n",
      "Requirement already satisfied: six in c:\\program files\\python312\\lib\\site-packages (from patsy>=0.5.6->statsmodels) (1.16.0)\n",
      "Downloading statsmodels-0.14.2-cp312-cp312-win_amd64.whl (9.8 MB)\n",
      "   ---------------------------------------- 0.0/9.8 MB ? eta -:--:--\n",
      "   ---------------------------------------- 0.0/9.8 MB ? eta -:--:--\n",
      "   ---------------------------------------- 0.0/9.8 MB 393.8 kB/s eta 0:00:25\n",
      "   ---------------------------------------- 0.1/9.8 MB 751.6 kB/s eta 0:00:13\n",
      "    --------------------------------------- 0.2/9.8 MB 893.0 kB/s eta 0:00:11\n",
      "   - -------------------------------------- 0.3/9.8 MB 1.3 MB/s eta 0:00:08\n",
      "   - -------------------------------------- 0.4/9.8 MB 1.5 MB/s eta 0:00:07\n",
      "   -- ------------------------------------- 0.5/9.8 MB 1.8 MB/s eta 0:00:06\n",
      "   -- ------------------------------------- 0.7/9.8 MB 1.9 MB/s eta 0:00:05\n",
      "   --- ------------------------------------ 0.8/9.8 MB 2.1 MB/s eta 0:00:05\n",
      "   ---- ----------------------------------- 1.0/9.8 MB 2.2 MB/s eta 0:00:04\n",
      "   ---- ----------------------------------- 1.1/9.8 MB 2.3 MB/s eta 0:00:04\n",
      "   ----- ---------------------------------- 1.3/9.8 MB 2.4 MB/s eta 0:00:04\n",
      "   ----- ---------------------------------- 1.5/9.8 MB 2.5 MB/s eta 0:00:04\n",
      "   ------ --------------------------------- 1.6/9.8 MB 2.5 MB/s eta 0:00:04\n",
      "   ------- -------------------------------- 1.7/9.8 MB 2.6 MB/s eta 0:00:04\n",
      "   ------- -------------------------------- 1.9/9.8 MB 2.7 MB/s eta 0:00:03\n",
      "   -------- ------------------------------- 2.0/9.8 MB 2.6 MB/s eta 0:00:03\n",
      "   --------- ------------------------------ 2.2/9.8 MB 2.8 MB/s eta 0:00:03\n",
      "   --------- ------------------------------ 2.3/9.8 MB 2.8 MB/s eta 0:00:03\n",
      "   --------- ------------------------------ 2.4/9.8 MB 2.7 MB/s eta 0:00:03\n",
      "   ---------- ----------------------------- 2.6/9.8 MB 2.8 MB/s eta 0:00:03\n",
      "   ----------- ---------------------------- 2.9/9.8 MB 2.9 MB/s eta 0:00:03\n",
      "   ------------ --------------------------- 3.0/9.8 MB 2.9 MB/s eta 0:00:03\n",
      "   ------------- -------------------------- 3.2/9.8 MB 3.0 MB/s eta 0:00:03\n",
      "   -------------- ------------------------- 3.5/9.8 MB 3.1 MB/s eta 0:00:03\n",
      "   --------------- ------------------------ 3.7/9.8 MB 3.2 MB/s eta 0:00:02\n",
      "   ---------------- ----------------------- 4.0/9.8 MB 3.2 MB/s eta 0:00:02\n",
      "   ----------------- ---------------------- 4.2/9.8 MB 3.3 MB/s eta 0:00:02\n",
      "   ------------------ --------------------- 4.4/9.8 MB 3.4 MB/s eta 0:00:02\n",
      "   ------------------- -------------------- 4.7/9.8 MB 3.4 MB/s eta 0:00:02\n",
      "   -------------------- ------------------- 5.0/9.8 MB 3.5 MB/s eta 0:00:02\n",
      "   --------------------- ------------------ 5.2/9.8 MB 3.6 MB/s eta 0:00:02\n",
      "   ---------------------- ----------------- 5.4/9.8 MB 3.7 MB/s eta 0:00:02\n",
      "   ----------------------- ---------------- 5.7/9.8 MB 3.7 MB/s eta 0:00:02\n",
      "   ------------------------ --------------- 5.9/9.8 MB 3.8 MB/s eta 0:00:02\n",
      "   ------------------------- -------------- 6.2/9.8 MB 3.8 MB/s eta 0:00:01\n",
      "   -------------------------- ------------- 6.5/9.8 MB 3.9 MB/s eta 0:00:01\n",
      "   --------------------------- ------------ 6.8/9.8 MB 3.9 MB/s eta 0:00:01\n",
      "   ---------------------------- ----------- 7.0/9.8 MB 4.0 MB/s eta 0:00:01\n",
      "   ------------------------------ --------- 7.4/9.8 MB 4.1 MB/s eta 0:00:01\n",
      "   ------------------------------- -------- 7.7/9.8 MB 4.2 MB/s eta 0:00:01\n",
      "   -------------------------------- ------- 7.9/9.8 MB 4.2 MB/s eta 0:00:01\n",
      "   -------------------------------- ------- 7.9/9.8 MB 4.2 MB/s eta 0:00:01\n",
      "   ----------------------------------- ---- 8.6/9.8 MB 4.3 MB/s eta 0:00:01\n",
      "   ------------------------------------ --- 8.9/9.8 MB 4.4 MB/s eta 0:00:01\n",
      "   ------------------------------------- -- 9.2/9.8 MB 4.4 MB/s eta 0:00:01\n",
      "   -------------------------------------- - 9.4/9.8 MB 4.4 MB/s eta 0:00:01\n",
      "   ---------------------------------------  9.7/9.8 MB 4.5 MB/s eta 0:00:01\n",
      "   ---------------------------------------  9.8/9.8 MB 4.5 MB/s eta 0:00:01\n",
      "   ---------------------------------------- 9.8/9.8 MB 4.4 MB/s eta 0:00:00\n",
      "Downloading patsy-0.5.6-py2.py3-none-any.whl (233 kB)\n",
      "   ---------------------------------------- 0.0/233.9 kB ? eta -:--:--\n",
      "   -------------------------------------- - 225.3/233.9 kB 6.9 MB/s eta 0:00:01\n",
      "   ---------------------------------------- 233.9/233.9 kB 4.9 MB/s eta 0:00:00\n",
      "Installing collected packages: patsy, statsmodels\n",
      "Successfully installed patsy-0.5.6 statsmodels-0.14.2\n"
     ]
    }
   ],
   "source": [
    "!pip install statsmodels"
   ]
  },
  {
   "cell_type": "markdown",
   "id": "6afea1fa-bc8a-415f-9e79-298a6d62a6a9",
   "metadata": {},
   "source": [
    "# 12. A tutoring service claims that its program improves students' exam scores. A sample of students who\n",
    "# participated in the program was taken, and their scores before and after the program were recorded.\n",
    "\n",
    "\n",
    "# Use the below code to generate samples of respective arrays of marks:\n",
    "\n",
    "# ```python before_program = <p.array([75, 80, 85, 70, 90, 78, 92, 88, 82, 87]) after_program = <p.array([80, 85, 90, 80, 92, 80, 95, 90, 85, 88])``` Use z-test to find if the claims made by tutor are true or false"
   ]
  },
  {
   "cell_type": "code",
   "execution_count": null,
   "id": "b4669677-280a-4dd0-9c67-3e14b4688d7f",
   "metadata": {},
   "outputs": [],
   "source": [
    "The results of the z-test are as follows:\n",
    "\n",
    ". Mean Difference: 3.8\n",
    ". Standard Deviation of Difference:2.62\n",
    ". Z-Score:4.59\n",
    ". P-Value: 4.37 * 10^6\n",
    "\n",
    "results:\n",
    "1. The mean difference of 3.8 indicates that, on average, student' scores increased by 3.8 \n",
    "   points after participating in the tutoring program.\n",
    "2. The z-score of 4.59 is quite high, suggesting a significant improvement.\n",
    "3. The p-value of 4.37 * 10^6 is much lower than the common significance level of 0.05.\n",
    "\n",
    "\n",
    "Since the p-value is extremely low, we reject the null hypothesis that there is no difference\n",
    "in exam scores before and after the program. This means the tutoring service's claim that its\n",
    "program improves students' exam scores is statistically supported by the data."
   ]
  },
  {
   "cell_type": "markdown",
   "id": "5a387d37-9c0b-4d1f-8132-2833d30bf765",
   "metadata": {},
   "source": [
    "# 13. A pharmaceutical company wants to determine if a new drug is effective in reducing blood pressure. They conduct a study and record blood pressure measurements before and after administering the drug.\n",
    "\n",
    "\n",
    "# Use the below code to generate samples of respective arrays of blood pressure:\n",
    "\n",
    "\n",
    "# ```python before_drug = np.array([145, 150, 140, 135, 155, 160, 152, 148, 130, 138]) after_drug = np.array([130, 140, 132, 128, 145, 148, 138, 136, 125, 130])  ```\n",
    "# Implement z-test to find if the drug really works or not."
   ]
  },
  {
   "cell_type": "code",
   "execution_count": null,
   "id": "35b4b67b-0fba-4a9d-a464-46e84ce7023a",
   "metadata": {},
   "outputs": [],
   "source": [
    "The results of the z-test for the drug's effectiveness in reducing blood pressure are as \n",
    "follows:\n",
    ". Mean Difference: 101\n",
    ". Standard Deviation of Difference:3.18\n",
    ". Z-Score: 10.05\n",
    ". p-value:0.0\n",
    "\n",
    "Results:\n",
    "1. The mean difference of 10.1 indicates that, on average, patients' blood pressure decresed \n",
    "   by 10.1 points after taking the drug.\n",
    "2. The z-score of 10.05 is extremely high, indicating a very significant change.\n",
    "3. The p-value is effectively zero, which is far below the common significance level of 0.05.    \n",
    "\n",
    "\n",
    "Since the p-value is essentially zero, we reject the null hypothesis that there is no \n",
    "difference in blood pressure before and after administering the drug. This means the \n",
    "pharmaceutical company's claim that the new drug is effective in reducing blood pressure \n",
    "is strongly supported by the data.\n",
    "\n"
   ]
  },
  {
   "cell_type": "markdown",
   "id": "0e41d1ab-5dc2-463d-bd67-e9db16fd35aa",
   "metadata": {},
   "source": [
    "# 14. A customer service department claims that their average response time is less than 5 minutes. A sample of recent customer interactions was taken, and the response times were recorded.\n",
    "\n",
    "\n",
    "# Implement the below code to generate the array of response time:\n",
    "\n",
    "# ```python response_times = np.array([4.3, 3.8, 5.1, 4.9, 4.7, 4.2, 5.2, 4.5, 4.6, 4.4]) ```\n",
    "# Impleme3t z-test to find the claims made by customer service department are tru or false."
   ]
  },
  {
   "cell_type": "code",
   "execution_count": null,
   "id": "35d23f3e-052e-4df5-994f-81eb6c433957",
   "metadata": {},
   "outputs": [],
   "source": [
    "The results of the z-test for the customer service department's claim are as follows:\n",
    ". Sample Mean: 4.57 minutes\n",
    ". Sample Standard Deviation:0.43 minutes\n",
    ". Z-Score:-3.18\n",
    ". P-Value:0.00073\n",
    "\n",
    "Results:\n",
    "1. The sample mean of 4.57 minutes is lower than the claimed average response time of 5 minutes.\n",
    "2. The z-score of -3.18 indicates a significant difference from the population mean.\n",
    "3. The p-value of 0.00073 is much lower than the common significance level of 0.05.\n",
    "\n",
    "\n",
    "Since the p-value is significantly low, we reject the null hypothesis that the average\n",
    "response time is 5 minutes or more. This means the customer service department's claim that \n",
    "their average response time is less than 5 minutes is statistically supported by the data\n"
   ]
  },
  {
   "cell_type": "markdown",
   "id": "b09e5d9b-f41a-45ee-9aeb-57953c4892de",
   "metadata": {},
   "source": [
    "# 15. A company is testing two different website layouts to see which one leads to higher click-through ratesV Write a Python function to perfor: an A/B test analysis, including calculating the t-statistic, degrees of freedo:, and p-value. Use the followi3g data:\n",
    "\n",
    "# ```python layout_a_clicks = [28, 32, 33, 29, 31, 34, 30, 35, 36, 37] layout_b_clicks = [40, 41, 38, 42, 39, 44, 43, 41, 45, 47]"
   ]
  },
  {
   "cell_type": "code",
   "execution_count": 2,
   "id": "98aaf4af-cd58-42c1-8760-e8f89c830c5f",
   "metadata": {},
   "outputs": [
    {
     "name": "stdout",
     "output_type": "stream",
     "text": [
      "T-statistic: -7.298102156175071\n",
      "Degrees of freedom: 17.879871863320876\n",
      "P-value: 9.19659607134804e-07\n"
     ]
    }
   ],
   "source": [
    "# To perform an A/B test analysis in Python, you can follow these steps:\n",
    "\n",
    "# 1. Calculate the means and standard deviations of the click-through rates for both layouts.\n",
    "# 2. Compute the t-statistic using the formula for the t-test for two independent samples.\n",
    "# 3. Calculate the degrees of freedom for the t-test.\n",
    "# 4. Determine the p-value based on the t-statistic and degrees of freedom.\n",
    "\n",
    "import numpy as np\n",
    "from scipy.stats import t\n",
    "\n",
    "def ab_test_analysis(layout_a_clicks, layout_b_clicks):\n",
    "    # Convert the lists to numpy arrays for easier calculations\n",
    "    a = np.array(layout_a_clicks)\n",
    "    b = np.array(layout_b_clicks)\n",
    "    \n",
    "    # Calculate means\n",
    "    mean_a = np.mean(a)\n",
    "    mean_b = np.mean(b)\n",
    "    \n",
    "    # Calculate standard deviations\n",
    "    std_a = np.std(a, ddof=1)\n",
    "    std_b = np.std(b, ddof=1)\n",
    "    \n",
    "    # Calculate the number of observations\n",
    "    n_a = len(a)\n",
    "    n_b = len(b)\n",
    "    \n",
    "    # Calculate the t-statistic\n",
    "    t_statistic = (mean_a - mean_b) / np.sqrt((std_a**2 / n_a) + (std_b**2 / n_b))\n",
    "    \n",
    "    # Calculate degrees of freedom\n",
    "    df = ((std_a**2 / n_a) + (std_b**2 / n_b))**2 / ((std_a**2 / n_a)**2 / (n_a - 1) + (std_b**2 / n_b)**2 / (n_b - 1))\n",
    "    \n",
    "    # Calculate the p-value\n",
    "    p_value = 2 * (1 - t.cdf(abs(t_statistic), df))\n",
    "    \n",
    "    return t_statistic, df, p_value\n",
    "\n",
    "# Provided data\n",
    "layout_a_clicks = [28, 32, 33, 29, 31, 34, 30, 35, 36, 37]\n",
    "layout_b_clicks = [40, 41, 38, 42, 39, 44, 43, 41, 45, 47]\n",
    "\n",
    "# Perform A/B test analysis\n",
    "t_statistic, df, p_value = ab_test_analysis(layout_a_clicks, layout_b_clicks)\n",
    "\n",
    "print(f\"T-statistic: {t_statistic}\")\n",
    "print(f\"Degrees of freedom: {df}\")\n",
    "print(f\"P-value: {p_value}\")\n"
   ]
  },
  {
   "cell_type": "markdown",
   "id": "b31b8d03-e0e2-4c11-a526-bf07c5c19e37",
   "metadata": {},
   "source": [
    "# 16. A pharmaceutical company wants to determine if a new drug is more effective than an existing drug in\n",
    "# reducing cholesterol levels. Create a program to analyze the clinical trial data and calculate the t-statistic and p-value for the treatment effect.\n",
    "\n",
    "# Use the following data of cholestrol level:\n",
    "\n",
    "# ```python existing_drug_levels = [180, 182, 175, 185, 178, 176, 172, 184, 179, 183] new_drug_levels = [170, 172, 165, 168, 175, 173, 170, 178, 172, 176]"
   ]
  },
  {
   "cell_type": "code",
   "execution_count": 3,
   "id": "b8c6525f-3bda-4e87-a58a-a4233db5f52c",
   "metadata": {},
   "outputs": [
    {
     "name": "stdout",
     "output_type": "stream",
     "text": [
      "T-statistic: 4.140480986208661\n",
      "Degrees of freedom: 17.866770765582338\n",
      "P-value: 0.0006229228945469067\n"
     ]
    }
   ],
   "source": [
    "import numpy as np\n",
    "from scipy.stats import t\n",
    "\n",
    "def drug_effectiveness_analysis(existing_drug_levels, new_drug_levels):\n",
    "    # Convert the lists to numpy arrays for easier calculations\n",
    "    existing = np.array(existing_drug_levels)\n",
    "    new = np.array(new_drug_levels)\n",
    "    \n",
    "    # Calculate means\n",
    "    mean_existing = np.mean(existing)\n",
    "    mean_new = np.mean(new)\n",
    "    \n",
    "    # Calculate standard deviations\n",
    "    std_existing = np.std(existing, ddof=1)\n",
    "    std_new = np.std(new, ddof=1)\n",
    "    \n",
    "    # Calculate the number of observations\n",
    "    n_existing = len(existing)\n",
    "    n_new = len(new)\n",
    "    \n",
    "    # Calculate the t-statistic\n",
    "    t_statistic = (mean_existing - mean_new) / np.sqrt((std_existing**2 / n_existing) + (std_new**2 / n_new))\n",
    "    \n",
    "    # Calculate degrees of freedom\n",
    "    df = ((std_existing**2 / n_existing) + (std_new**2 / n_new))**2 / ((std_existing**2 / n_existing)**2 / (n_existing - 1) + (std_new**2 / n_new)**2 / (n_new - 1))\n",
    "    \n",
    "    # Calculate the p-value\n",
    "    p_value = 2 * (1 - t.cdf(abs(t_statistic), df))\n",
    "    \n",
    "    return t_statistic, df, p_value\n",
    "\n",
    "# Provided data\n",
    "existing_drug_levels = [180, 182, 175, 185, 178, 176, 172, 184, 179, 183]\n",
    "new_drug_levels = [170, 172, 165, 168, 175, 173, 170, 178, 172, 176]\n",
    "\n",
    "# Perform drug effectiveness analysis\n",
    "t_statistic, df, p_value = drug_effectiveness_analysis(existing_drug_levels, new_drug_levels)\n",
    "\n",
    "print(f\"T-statistic: {t_statistic}\")\n",
    "print(f\"Degrees of freedom: {df}\")\n",
    "print(f\"P-value: {p_value}\")\n"
   ]
  },
  {
   "cell_type": "markdown",
   "id": "272b43fb-9bbf-459e-b9d0-4fa80bbec7aa",
   "metadata": {},
   "source": [
    "# 17. A school district introduces an educational intervention program to improve math scores. Write a Python\n",
    "# function to analyze pre- and post-intervention test scores, calculating the t-statistic and p-value to\n",
    "# determine if the intervention had a significant impact.\n",
    "# Use the following data of test score:\n",
    "#   ```python pre_interve3tion_scores = [80, 85, 90, 75, 88, 82, 92, 78, 85, 87] post_interve3tion_scores = [90, 92, 88, 92, 95, 91, 96, 93, 89, 93]"
   ]
  },
  {
   "cell_type": "code",
   "execution_count": 4,
   "id": "a1503df6-efb2-4dd9-82d6-b24a5994621a",
   "metadata": {},
   "outputs": [
    {
     "name": "stdout",
     "output_type": "stream",
     "text": [
      "T-statistic: 4.428408839657611\n",
      "Degrees of freedom: 9\n",
      "P-value: 0.0016509548165795085\n"
     ]
    }
   ],
   "source": [
    "import numpy as np\n",
    "from scipy.stats import t\n",
    "\n",
    "def educational_intervention_analysis(pre_scores, post_scores):\n",
    "    # Convert the lists to numpy arrays for easier calculations\n",
    "    pre = np.array(pre_scores)\n",
    "    post = np.array(post_scores)\n",
    "    \n",
    "    # Calculate the differences between pre and post scores\n",
    "    differences = post - pre\n",
    "    \n",
    "    # Calculate the mean and standard deviation of the differences\n",
    "    mean_diff = np.mean(differences)\n",
    "    std_diff = np.std(differences, ddof=1)\n",
    "    \n",
    "    # Calculate the number of observations\n",
    "    n = len(differences)\n",
    "    \n",
    "    # Calculate the t-statistic\n",
    "    t_statistic = mean_diff / (std_diff / np.sqrt(n))\n",
    "    \n",
    "    # Calculate the degrees of freedom\n",
    "    df = n - 1\n",
    "    \n",
    "    # Calculate the p-value\n",
    "    p_value = 2 * (1 - t.cdf(abs(t_statistic), df))\n",
    "    \n",
    "    return t_statistic, df, p_value\n",
    "\n",
    "# Provided data\n",
    "pre_intervention_scores = [80, 85, 90, 75, 88, 82, 92, 78, 85, 87]\n",
    "post_intervention_scores = [90, 92, 88, 92, 95, 91, 96, 93, 89, 93]\n",
    "\n",
    "# Perform educational intervention analysis\n",
    "t_statistic, df, p_value = educational_intervention_analysis(pre_intervention_scores, post_intervention_scores)\n",
    "\n",
    "print(f\"T-statistic: {t_statistic}\")\n",
    "print(f\"Degrees of freedom: {df}\")\n",
    "print(f\"P-value: {p_value}\")\n"
   ]
  },
  {
   "cell_type": "markdown",
   "id": "87307eba-9991-4ebd-b673-7b7ccfa92399",
   "metadata": {},
   "source": [
    "# 18. An HR department wants to investigate if there's a gender-based salary gap within the company. Develop a program to analyze salary data, calculate the t-statistic, and determine if there's a statistically significant difference between the average salaries of male and female employees.\n",
    "# Use the below code to generate synthetic dataY\n",
    "# ```python\n",
    "# Generate synthetic salary data for male and female employees\n",
    "# np.random.seed(0)  # For reproducibility\n",
    "# male_salaries = np.random.normal(loc=50000, scale=10000, size=20)\n",
    "\n",
    "# female_salaries = np.random.normal(loc=55000, scale=9000, size=20)"
   ]
  },
  {
   "cell_type": "code",
   "execution_count": 5,
   "id": "a1707dd3-0a96-4184-8955-bc23023ca627",
   "metadata": {},
   "outputs": [
    {
     "name": "stdout",
     "output_type": "stream",
     "text": [
      "T-statistic: 0.061142089696313844\n",
      "Degrees of freedom: 36.166783312917644\n",
      "P-value: 0.9515826849267925\n"
     ]
    }
   ],
   "source": [
    "import numpy as np\n",
    "from scipy.stats import t\n",
    "\n",
    "def gender_salary_gap_analysis(male_salaries, female_salaries):\n",
    "    # Convert the lists to numpy arrays for easier calculations\n",
    "    male = np.array(male_salaries)\n",
    "    female = np.array(female_salaries)\n",
    "    \n",
    "    # Calculate means\n",
    "    mean_male = np.mean(male)\n",
    "    mean_female = np.mean(female)\n",
    "    \n",
    "    # Calculate standard deviations\n",
    "    std_male = np.std(male, ddof=1)\n",
    "    std_female = np.std(female, ddof=1)\n",
    "    \n",
    "    # Calculate the number of observations\n",
    "    n_male = len(male)\n",
    "    n_female = len(female)\n",
    "    \n",
    "    # Calculate the t-statistic\n",
    "    t_statistic = (mean_male - mean_female) / np.sqrt((std_male**2 / n_male) + (std_female**2 / n_female))\n",
    "    \n",
    "    # Calculate degrees of freedom\n",
    "    df = ((std_male**2 / n_male) + (std_female**2 / n_female))**2 / ((std_male**2 / n_male)**2 / (n_male - 1) + (std_female**2 / n_female)**2 / (n_female - 1))\n",
    "    \n",
    "    # Calculate the p-value\n",
    "    p_value = 2 * (1 - t.cdf(abs(t_statistic), df))\n",
    "    \n",
    "    return t_statistic, df, p_value\n",
    "\n",
    "# Generate synthetic salary data for male and female employees\n",
    "np.random.seed(0) # For reproducibility\n",
    "male_salaries = np.random.normal(loc=50000, scale=10000, size=20)\n",
    "female_salaries = np.random.normal(loc=55000, scale=9000, size=20)\n",
    "\n",
    "# Perform gender salary gap analysis\n",
    "t_statistic, df, p_value = gender_salary_gap_analysis(male_salaries, female_salaries)\n",
    "\n",
    "print(f\"T-statistic: {t_statistic}\")\n",
    "print(f\"Degrees of freedom: {df}\")\n",
    "print(f\"P-value: {p_value}\")\n"
   ]
  },
  {
   "cell_type": "markdown",
   "id": "ba6e1a4f-c76e-4d18-9449-83b4272d1c46",
   "metadata": {},
   "source": [
    "# 19. A manufacturer produces two different versions of a product and wants to compare their quality scores.\n",
    "# Create a Python function to analyze quality assessment data, calculate the t-statistic, and decide\n",
    "# whether there's a significant difference in quality between the two versions.\n",
    "\n",
    "\n",
    "# Use the following data:\n",
    "# ```python\n",
    "\n",
    "# version1_scores = [85, 88, 82, 89, 87, 84, 90, 88, 85, 86, 91, 83, 87, 84, 89, 86, 84, 88, 85, 86, 89, 90, 87, 88, 85]\n",
    "\n",
    "# version2_scores = [80, 78, 83, 81, 79, 82, 76, 80, 78, 81, 77, 82, 80, 79, 82, 79, 80, 81, 79, 82, 79, 78, 80, 81, 82]\n",
    "\n"
   ]
  },
  {
   "cell_type": "code",
   "execution_count": 6,
   "id": "22a2aac3-0749-4ecc-8e78-79023558ee51",
   "metadata": {},
   "outputs": [
    {
     "name": "stdout",
     "output_type": "stream",
     "text": [
      "T-statistic: 11.325830417646698\n",
      "Degrees of freedom: 44.47061033283036\n",
      "P-value: 1.0658141036401503e-14\n"
     ]
    }
   ],
   "source": [
    "import numpy as np\n",
    "from scipy.stats import t\n",
    "\n",
    "def quality_assessment_analysis(version1_scores, version2_scores):\n",
    "    # Convert the lists to numpy arrays for easier calculations\n",
    "    version1 = np.array(version1_scores)\n",
    "    version2 = np.array(version2_scores)\n",
    "    \n",
    "    # Calculate means\n",
    "    mean_version1 = np.mean(version1)\n",
    "    mean_version2 = np.mean(version2)\n",
    "    \n",
    "    # Calculate standard deviations\n",
    "    std_version1 = np.std(version1, ddof=1)\n",
    "    std_version2 = np.std(version2, ddof=1)\n",
    "    \n",
    "    # Calculate the number of observations\n",
    "    n_version1 = len(version1)\n",
    "    n_version2 = len(version2)\n",
    "    \n",
    "    # Calculate the t-statistic\n",
    "    t_statistic = (mean_version1 - mean_version2) / np.sqrt((std_version1**2 / n_version1) + (std_version2**2 / n_version2))\n",
    "    \n",
    "    # Calculate degrees of freedom\n",
    "    df = ((std_version1**2 / n_version1) + (std_version2**2 / n_version2))**2 / ((std_version1**2 / n_version1)**2 / (n_version1 - 1) + (std_version2**2 / n_version2)**2 / (n_version2 - 1))\n",
    "    \n",
    "    # Calculate the p-value\n",
    "    p_value = 2 * (1 - t.cdf(abs(t_statistic), df))\n",
    "    \n",
    "    return t_statistic, df, p_value\n",
    "\n",
    "# Provided data\n",
    "version1_scores = [85, 88, 82, 89, 87, 84, 90, 88, 85, 86, 91, 83, 87, 84, 89, 86, 84, 88, 85, 86, 89, 90, 87, 88, 85]\n",
    "version2_scores = [80, 78, 83, 81, 79, 82, 76, 80, 78, 81, 77, 82, 80, 79, 82, 79, 80, 81, 79, 82, 79, 78, 80, 81, 82]\n",
    "\n",
    "# Perform quality assessment analysis\n",
    "t_statistic, df, p_value = quality_assessment_analysis(version1_scores, version2_scores)\n",
    "\n",
    "print(f\"T-statistic: {t_statistic}\")\n",
    "print(f\"Degrees of freedom: {df}\")\n",
    "print(f\"P-value: {p_value}\")\n"
   ]
  },
  {
   "cell_type": "markdown",
   "id": "e3cbe58c-5f70-46ed-b56e-dfb850f1685e",
   "metadata": {},
   "source": [
    "# 20.  A restaurant chain collects customer satisfaction scores for two different branches. Write a program to\n",
    "# analyze the scores, calculate the t-statistic, and determine if there's a statistically significant difference in\n",
    "# customer satisfaction between the branches.\n",
    "\n",
    "\n",
    "# Use the below data of scores:\n",
    "\n",
    "#  ```python\n",
    "\n",
    "# branch_a_scores = [4, 5, 3, 4, 5, 4, 5, 3, 4, 4, 5, 4, 4, 3, 4, 5, 5, 4, 3, 4, 5, 4, 3, 5, 4, 4, 5, 3, 4, 5, 4]\n",
    "\n",
    "# branch_b_scores = [3, 4, 2, 3, 4, 3, 4, 2, 3, 3, 4, 3, 3, 2, 3, 4, 4, 3, 2, 3, 4, 3, 2, 4, 3, 3, 4, 2, 3, 4, 3]"
   ]
  },
  {
   "cell_type": "code",
   "execution_count": 7,
   "id": "9bae94a7-e720-4ac4-b0f6-753ba9cd4ab6",
   "metadata": {},
   "outputs": [
    {
     "name": "stdout",
     "output_type": "stream",
     "text": [
      "T-statistic: 5.480077554195743\n",
      "Degrees of freedom: 60.0\n",
      "P-value: 8.895290508625919e-07\n"
     ]
    }
   ],
   "source": [
    "import numpy as np\n",
    "from scipy.stats import t\n",
    "\n",
    "def customer_satisfaction_analysis(branch_a_scores, branch_b_scores):\n",
    "    # Convert the lists to numpy arrays for easier calculations\n",
    "    branch_a = np.array(branch_a_scores)\n",
    "    branch_b = np.array(branch_b_scores)\n",
    "    \n",
    "    # Calculate means\n",
    "    mean_branch_a = np.mean(branch_a)\n",
    "    mean_branch_b = np.mean(branch_b)\n",
    "    \n",
    "    # Calculate standard deviations\n",
    "    std_branch_a = np.std(branch_a, ddof=1)\n",
    "    std_branch_b = np.std(branch_b, ddof=1)\n",
    "    \n",
    "    # Calculate the number of observations\n",
    "    n_branch_a = len(branch_a)\n",
    "    n_branch_b = len(branch_b)\n",
    "    \n",
    "    # Calculate the t-statistic\n",
    "    t_statistic = (mean_branch_a - mean_branch_b) / np.sqrt((std_branch_a**2 / n_branch_a) + (std_branch_b**2 / n_branch_b))\n",
    "    \n",
    "    # Calculate degrees of freedom\n",
    "    df = ((std_branch_a**2 / n_branch_a) + (std_branch_b**2 / n_branch_b))**2 / ((std_branch_a**2 / n_branch_a)**2 / (n_branch_a - 1) + (std_branch_b**2 / n_branch_b)**2 / (n_branch_b - 1))\n",
    "    \n",
    "    # Calculate the p-value\n",
    "    p_value = 2 * (1 - t.cdf(abs(t_statistic), df))\n",
    "    \n",
    "    return t_statistic, df, p_value\n",
    "\n",
    "# Provided data\n",
    "branch_a_scores = [4, 5, 3, 4, 5, 4, 5, 3, 4, 4, 5, 4, 4, 3, 4, 5, 5, 4, 3, 4, 5, 4, 3, 5, 4, 4, 5, 3, 4, 5, 4]\n",
    "branch_b_scores = [3, 4, 2, 3, 4, 3, 4, 2, 3, 3, 4, 3, 3, 2, 3, 4, 4, 3, 2, 3, 4, 3, 2, 4, 3, 3, 4, 2, 3, 4, 3]\n",
    "\n",
    "# Perform customer satisfaction analysis\n",
    "t_statistic, df, p_value = customer_satisfaction_analysis(branch_a_scores, branch_b_scores)\n",
    "\n",
    "print(f\"T-statistic: {t_statistic}\")\n",
    "print(f\"Degrees of freedom: {df}\")\n",
    "print(f\"P-value: {p_value}\")\n"
   ]
  },
  {
   "cell_type": "markdown",
   "id": "4108c446-d828-4abc-9e3f-0c96d049917d",
   "metadata": {},
   "source": [
    "# 21. A political analyst wants to determine if there is a significant association between age groups and voter\n",
    "# preferences FCandidate A or Candidate B). They collect data from a sample of 500 voters and classify\n",
    "# them into different age groups and candidate preferences. Perform a Chi-Square test to determine if\n",
    "# there is a significant association between age groups and voter preferences.\n",
    "\n",
    "\n",
    "# Use the below code to generate data:\n",
    "\n",
    "# ```python\n",
    "\n",
    "# np.random.seed(0)\n",
    "\n",
    "# age_groups = np.random.choice([ 18 30 , 31 50 , 51+', 51+'], size=30)\n",
    "\n",
    "# voter_preferences = np.random.choice(['Candidate A', 'Candidate B'], size=30)"
   ]
  },
  {
   "cell_type": "code",
   "execution_count": 8,
   "id": "15e7131b-bb00-45c1-ac09-c7d757d715bd",
   "metadata": {},
   "outputs": [
    {
     "name": "stdout",
     "output_type": "stream",
     "text": [
      "Contingency Table:\n",
      "[[95 87]\n",
      " [87 82]\n",
      " [84 65]]\n",
      "\n",
      "Chi-Square Statistic: 0.8779923945254768\n",
      "P-value: 0.6446832311860852\n"
     ]
    }
   ],
   "source": [
    "import numpy as np\n",
    "from scipy.stats import chi2_contingency\n",
    "\n",
    "# Generate synthetic data for age groups and voter preferences\n",
    "np.random.seed(0)\n",
    "age_groups = np.random.choice(['18-30', '31-50', '51+'], size=500)\n",
    "voter_preferences = np.random.choice(['Candidate A', 'Candidate B'], size=500)\n",
    "\n",
    "# Create a contingency table\n",
    "contingency_table = np.zeros((3, 2), dtype=int)\n",
    "\n",
    "for i in range(len(age_groups)):\n",
    "    if age_groups[i] == '18-30':\n",
    "        row_index = 0\n",
    "    elif age_groups[i] == '31-50':\n",
    "        row_index = 1\n",
    "    else:\n",
    "        row_index = 2\n",
    "    \n",
    "    if voter_preferences[i] == 'Candidate A':\n",
    "        column_index = 0\n",
    "    else:\n",
    "        column_index = 1\n",
    "    \n",
    "    contingency_table[row_index, column_index] += 1\n",
    "\n",
    "# Perform Chi-Square test\n",
    "chi2, p_value, _, _ = chi2_contingency(contingency_table)\n",
    "\n",
    "print(\"Contingency Table:\")\n",
    "print(contingency_table)\n",
    "print(\"\\nChi-Square Statistic:\", chi2)\n",
    "print(\"P-value:\", p_value)\n"
   ]
  },
  {
   "cell_type": "markdown",
   "id": "3de77f2a-5e31-43f5-8fab-2e71f229b4f7",
   "metadata": {},
   "source": [
    "# 22. A company conducted a customer satisfaction survey to determine if there is a significant relationship\n",
    "# between product satisfaction levels (Satisfied, Neutral, Dissatisfied) and the region where customers are\n",
    "# located (East, West, North, South). The survey data is summarized in a contingency table. Conduct a ChiSquare test to determine if there is a significant relationship between product satisfaction levels and\n",
    "# customer regions.\n",
    "\n",
    "\n",
    "# Sample data:\n",
    "\n",
    "# ```python\n",
    "\n",
    "# Sample data: Product satisfaction levels (rows) vs. Customer regions (columns)\n",
    "\n",
    "# data = np.array([[50, 30, 40, 20], [30, 40, 30, 50], [20, 30, 40, 30]])"
   ]
  },
  {
   "cell_type": "code",
   "execution_count": 9,
   "id": "ea3234a3-bc97-4217-a08b-958b73dd38d3",
   "metadata": {},
   "outputs": [
    {
     "name": "stdout",
     "output_type": "stream",
     "text": [
      "Contingency Table:\n",
      "[[50 30 40 20]\n",
      " [30 40 30 50]\n",
      " [20 30 40 30]]\n",
      "\n",
      "Chi-Square Statistic: 27.777056277056275\n",
      "P-value: 0.00010349448486004387\n"
     ]
    }
   ],
   "source": [
    "import numpy as np\n",
    "from scipy.stats import chi2_contingency\n",
    "\n",
    "# Given data: Contingency table\n",
    "data = np.array([[50, 30, 40, 20], [30, 40, 30, 50], [20, 30, 40, 30]])\n",
    "\n",
    "# Perform Chi-Square test\n",
    "chi2, p_value, _, _ = chi2_contingency(data)\n",
    "\n",
    "print(\"Contingency Table:\")\n",
    "print(data)\n",
    "print(\"\\nChi-Square Statistic:\", chi2)\n",
    "print(\"P-value:\", p_value)\n"
   ]
  },
  {
   "cell_type": "markdown",
   "id": "ad81cc42-8342-47c4-a794-8a48e1676478",
   "metadata": {},
   "source": [
    "# 23. A company implemented an employee training program to improve job performance (Effective, Neutral,\n",
    "# Ineffective). After the training, they collected data from a sample of employees and classified them based\n",
    "# on their job performance before and after the training. Perform a Chi-Square test to determine if there is a\n",
    "# significant difference between job performance levels before and after the training.\n",
    "\n",
    "\n",
    "# Sample data:\n",
    "\n",
    "# ```python\n",
    "\n",
    "# Sample data: Job performance levels before (rows) and after (columns) training\n",
    "\n",
    "# data = np.array([[50, 30, 20], [30, 40, 30], [20, 30, 40]])"
   ]
  },
  {
   "cell_type": "code",
   "execution_count": 10,
   "id": "fb2b7738-c188-449c-8d34-2a1ad6a265d8",
   "metadata": {},
   "outputs": [
    {
     "name": "stdout",
     "output_type": "stream",
     "text": [
      "Contingency Table:\n",
      "[[50 30 20]\n",
      " [30 40 30]\n",
      " [20 30 40]]\n",
      "\n",
      "Chi-Square Statistic: 22.161728395061726\n",
      "P-value: 0.00018609719479882554\n"
     ]
    }
   ],
   "source": [
    "import numpy as np\n",
    "from scipy.stats import chi2_contingency\n",
    "\n",
    "# Given data: Contingency table\n",
    "data = np.array([[50, 30, 20], [30, 40, 30], [20, 30, 40]])\n",
    "\n",
    "# Perform Chi-Square test\n",
    "chi2, p_value, _, _ = chi2_contingency(data)\n",
    "\n",
    "print(\"Contingency Table:\")\n",
    "print(data)\n",
    "print(\"\\nChi-Square Statistic:\", chi2)\n",
    "print(\"P-value:\", p_value)\n"
   ]
  },
  {
   "cell_type": "markdown",
   "id": "2ed42464-5fd9-4b51-b62c-7c00c4a1faca",
   "metadata": {},
   "source": [
    "# 24.  A company produces three different versions of a product: Standard, Premium, and Deluxe. The\n",
    "# company wants to determine if there is a significant difference in customer satisfaction scores among the\n",
    "# three product versions. They conducted a survey and collected customer satisfaction scores for each\n",
    "# version from a random sample of customers. Perform an ANOVA test to determine if there is a significant\n",
    "# difference in customer satisfaction scores.\n",
    "\n",
    "\n",
    "# Use the following data:\n",
    "\n",
    "#  ```python\n",
    "\n",
    "  # Sample data: Customer satisfaction scores for each product version\n",
    "\n",
    "#  standard_scores = [80, 85, 90, 78, 88, 82, 92, 78, 85, 87]\n",
    "\n",
    "#  premium_scores = [90, 92, 88, 92, 95, 91, 96, 93, 89, 93]\n",
    "\n",
    "#  deluxe_scores = [95, 98, 92, 97, 96, 94, 98, 97, 92, 99]"
   ]
  },
  {
   "cell_type": "code",
   "execution_count": 11,
   "id": "41b17727-0ea4-481d-ad2c-7bc67ddd3b18",
   "metadata": {},
   "outputs": [
    {
     "name": "stdout",
     "output_type": "stream",
     "text": [
      "F-Statistic: 27.03556231003039\n",
      "P-value: 3.578632885734896e-07\n"
     ]
    }
   ],
   "source": [
    "import numpy as np\n",
    "from scipy.stats import f_oneway\n",
    "\n",
    "# Given data: Customer satisfaction scores for each product version\n",
    "standard_scores = [80, 85, 90, 78, 88, 82, 92, 78, 85, 87]\n",
    "premium_scores = [90, 92, 88, 92, 95, 91, 96, 93, 89, 93]\n",
    "deluxe_scores = [95, 98, 92, 97, 96, 94, 98, 97, 92, 99]\n",
    "\n",
    "# Perform ANOVA test\n",
    "f_statistic, p_value = f_oneway(standard_scores, premium_scores, deluxe_scores)\n",
    "\n",
    "print(\"F-Statistic:\", f_statistic)\n",
    "print(\"P-value:\", p_value)\n"
   ]
  },
  {
   "cell_type": "code",
   "execution_count": null,
   "id": "670bf1d2-d173-4543-9712-5fcc4c23e936",
   "metadata": {},
   "outputs": [],
   "source": []
  },
  {
   "cell_type": "code",
   "execution_count": null,
   "id": "cf841795-8410-4596-b91d-0888d7e63893",
   "metadata": {},
   "outputs": [],
   "source": []
  },
  {
   "cell_type": "code",
   "execution_count": null,
   "id": "6fb811f6-4dde-4eff-b901-3c45b15c5d4a",
   "metadata": {},
   "outputs": [],
   "source": []
  },
  {
   "cell_type": "code",
   "execution_count": null,
   "id": "69b411ba-65a6-4f73-946f-af0add2ade35",
   "metadata": {},
   "outputs": [],
   "source": []
  },
  {
   "cell_type": "code",
   "execution_count": null,
   "id": "5b06044f-867f-41e2-b280-1e2be74ff32b",
   "metadata": {},
   "outputs": [],
   "source": []
  },
  {
   "cell_type": "code",
   "execution_count": null,
   "id": "4262c90b-81c1-42ff-85b4-55e30810d836",
   "metadata": {},
   "outputs": [],
   "source": []
  },
  {
   "cell_type": "code",
   "execution_count": null,
   "id": "b52cfbc2-be65-41e0-8a00-c2eb819d9ba6",
   "metadata": {},
   "outputs": [],
   "source": []
  }
 ],
 "metadata": {
  "kernelspec": {
   "display_name": "Python 3 (ipykernel)",
   "language": "python",
   "name": "python3"
  },
  "language_info": {
   "codemirror_mode": {
    "name": "ipython",
    "version": 3
   },
   "file_extension": ".py",
   "mimetype": "text/x-python",
   "name": "python",
   "nbconvert_exporter": "python",
   "pygments_lexer": "ipython3",
   "version": "3.12.3"
  }
 },
 "nbformat": 4,
 "nbformat_minor": 5
}
